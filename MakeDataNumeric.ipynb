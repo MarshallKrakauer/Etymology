{
 "cells": [
  {
   "cell_type": "code",
   "execution_count": 1,
   "metadata": {},
   "outputs": [],
   "source": [
    "import pandas as pd\n",
    "import numpy as np"
   ]
  },
  {
   "cell_type": "code",
   "execution_count": 2,
   "metadata": {},
   "outputs": [],
   "source": [
    "language_data = pd.read_csv(\"language_data.csv\")"
   ]
  },
  {
   "cell_type": "code",
   "execution_count": 3,
   "metadata": {},
   "outputs": [],
   "source": [
    "language_data = language_data[pd.notnull(language_data['full_name'])]\n",
    "language_data = language_data[pd.notnull(language_data['word'])]\n",
    "language_data = language_data[pd.notnull(language_data['Group'])]"
   ]
  },
  {
   "cell_type": "code",
   "execution_count": 4,
   "metadata": {},
   "outputs": [],
   "source": [
    "language_data.loc[language_data['full_name'].str.contains('Greek'), 'Group'] = 'Greek'"
   ]
  },
  {
   "cell_type": "code",
   "execution_count": 5,
   "metadata": {},
   "outputs": [],
   "source": [
    "language_data.loc[language_data['full_name'].str.contains('Turkish'), 'Group'] = 'Other'"
   ]
  },
  {
   "cell_type": "code",
   "execution_count": 6,
   "metadata": {},
   "outputs": [],
   "source": [
    "language_data['word_len'] = language_data['word'].apply(lambda x: len(x))"
   ]
  },
  {
   "cell_type": "code",
   "execution_count": 7,
   "metadata": {},
   "outputs": [],
   "source": [
    "language_data = language_data[language_data['word_len'] < 25]"
   ]
  },
  {
   "cell_type": "code",
   "execution_count": 8,
   "metadata": {},
   "outputs": [
    {
     "data": {
      "text/plain": [
       "array(['Germanic', 'Other', 'Arabic', 'Latin', 'Greek', 'Japanese'],\n",
       "      dtype=object)"
      ]
     },
     "execution_count": 8,
     "metadata": {},
     "output_type": "execute_result"
    }
   ],
   "source": [
    "language_data.Group.unique()"
   ]
  },
  {
   "cell_type": "code",
   "execution_count": 9,
   "metadata": {},
   "outputs": [],
   "source": [
    "convert_dict = {}\n",
    "for idx, value in enumerate(language_data.Group.unique()):\n",
    "    convert_dict[value] = idx"
   ]
  },
  {
   "cell_type": "code",
   "execution_count": 10,
   "metadata": {},
   "outputs": [],
   "source": [
    "language_data['GroupNum'] = language_data['Group'].apply(lambda x: convert_dict[x])"
   ]
  },
  {
   "cell_type": "code",
   "execution_count": 11,
   "metadata": {},
   "outputs": [],
   "source": [
    "letter_li = []\n",
    "for word in language_data['word'].values:\n",
    "    for letter in word:\n",
    "        letter_li.append(letter)"
   ]
  },
  {
   "cell_type": "code",
   "execution_count": 12,
   "metadata": {},
   "outputs": [],
   "source": [
    "letter_li.sort()"
   ]
  },
  {
   "cell_type": "code",
   "execution_count": 13,
   "metadata": {},
   "outputs": [],
   "source": [
    "unique_letters = list(set(letter_li))\n",
    "unique_letters.sort()"
   ]
  },
  {
   "cell_type": "code",
   "execution_count": 14,
   "metadata": {},
   "outputs": [],
   "source": [
    "letter_dict = {}\n",
    "for idx, letter in enumerate(unique_letters):\n",
    "    letter_dict[letter] = idx"
   ]
  },
  {
   "cell_type": "code",
   "execution_count": 15,
   "metadata": {},
   "outputs": [],
   "source": [
    "language_data['letter_li'] = language_data['word'].apply(lambda x: list(x))"
   ]
  },
  {
   "cell_type": "code",
   "execution_count": 16,
   "metadata": {},
   "outputs": [],
   "source": [
    "def letter_to_number(word_li):\n",
    "    return_li = []\n",
    "    for letter in word_li:\n",
    "        return_li.append(letter_dict[letter])\n",
    "        \n",
    "    return return_li"
   ]
  },
  {
   "cell_type": "code",
   "execution_count": 17,
   "metadata": {},
   "outputs": [],
   "source": [
    "language_data['number_li'] = language_data['letter_li'].apply(lambda x: letter_to_number(x))"
   ]
  },
  {
   "cell_type": "code",
   "execution_count": 18,
   "metadata": {},
   "outputs": [
    {
     "data": {
      "text/html": [
       "<div>\n",
       "<style scoped>\n",
       "    .dataframe tbody tr th:only-of-type {\n",
       "        vertical-align: middle;\n",
       "    }\n",
       "\n",
       "    .dataframe tbody tr th {\n",
       "        vertical-align: top;\n",
       "    }\n",
       "\n",
       "    .dataframe thead th {\n",
       "        text-align: right;\n",
       "    }\n",
       "</style>\n",
       "<table border=\"1\" class=\"dataframe\">\n",
       "  <thead>\n",
       "    <tr style=\"text-align: right;\">\n",
       "      <th></th>\n",
       "      <th>Unnamed: 0</th>\n",
       "      <th>word</th>\n",
       "      <th>origin</th>\n",
       "      <th>full_name</th>\n",
       "      <th>Group</th>\n",
       "      <th>word_len</th>\n",
       "      <th>GroupNum</th>\n",
       "      <th>letter_li</th>\n",
       "      <th>number_li</th>\n",
       "    </tr>\n",
       "  </thead>\n",
       "  <tbody>\n",
       "    <tr>\n",
       "      <th>0</th>\n",
       "      <td>0</td>\n",
       "      <td>abs brake</td>\n",
       "      <td>deu</td>\n",
       "      <td>German</td>\n",
       "      <td>Germanic</td>\n",
       "      <td>9</td>\n",
       "      <td>0</td>\n",
       "      <td>[a, b, s,  , b, r, a, k, e]</td>\n",
       "      <td>[2, 3, 20, 0, 3, 19, 2, 12, 6]</td>\n",
       "    </tr>\n",
       "    <tr>\n",
       "      <th>1</th>\n",
       "      <td>1</td>\n",
       "      <td>aivd</td>\n",
       "      <td>nld</td>\n",
       "      <td>Dutch;Flemish</td>\n",
       "      <td>Germanic</td>\n",
       "      <td>4</td>\n",
       "      <td>0</td>\n",
       "      <td>[a, i, v, d]</td>\n",
       "      <td>[2, 10, 23, 5]</td>\n",
       "    </tr>\n",
       "    <tr>\n",
       "      <th>2</th>\n",
       "      <td>3</td>\n",
       "      <td>aachen</td>\n",
       "      <td>deu</td>\n",
       "      <td>German</td>\n",
       "      <td>Germanic</td>\n",
       "      <td>6</td>\n",
       "      <td>0</td>\n",
       "      <td>[a, a, c, h, e, n]</td>\n",
       "      <td>[2, 2, 4, 9, 6, 15]</td>\n",
       "    </tr>\n",
       "    <tr>\n",
       "      <th>3</th>\n",
       "      <td>4</td>\n",
       "      <td>aarhus</td>\n",
       "      <td>dan</td>\n",
       "      <td>Danish</td>\n",
       "      <td>Germanic</td>\n",
       "      <td>6</td>\n",
       "      <td>0</td>\n",
       "      <td>[a, a, r, h, u, s]</td>\n",
       "      <td>[2, 2, 19, 9, 22, 20]</td>\n",
       "    </tr>\n",
       "    <tr>\n",
       "      <th>4</th>\n",
       "      <td>7</td>\n",
       "      <td>aashaadha</td>\n",
       "      <td>san</td>\n",
       "      <td>Sanskrit</td>\n",
       "      <td>Other</td>\n",
       "      <td>9</td>\n",
       "      <td>1</td>\n",
       "      <td>[a, a, s, h, a, a, d, h, a]</td>\n",
       "      <td>[2, 2, 20, 9, 2, 2, 5, 9, 2]</td>\n",
       "    </tr>\n",
       "  </tbody>\n",
       "</table>\n",
       "</div>"
      ],
      "text/plain": [
       "   Unnamed: 0       word origin      full_name     Group  word_len  GroupNum  \\\n",
       "0           0  abs brake    deu         German  Germanic         9         0   \n",
       "1           1       aivd    nld  Dutch;Flemish  Germanic         4         0   \n",
       "2           3     aachen    deu         German  Germanic         6         0   \n",
       "3           4     aarhus    dan         Danish  Germanic         6         0   \n",
       "4           7  aashaadha    san       Sanskrit     Other         9         1   \n",
       "\n",
       "                     letter_li                       number_li  \n",
       "0  [a, b, s,  , b, r, a, k, e]  [2, 3, 20, 0, 3, 19, 2, 12, 6]  \n",
       "1                 [a, i, v, d]                  [2, 10, 23, 5]  \n",
       "2           [a, a, c, h, e, n]             [2, 2, 4, 9, 6, 15]  \n",
       "3           [a, a, r, h, u, s]           [2, 2, 19, 9, 22, 20]  \n",
       "4  [a, a, s, h, a, a, d, h, a]    [2, 2, 20, 9, 2, 2, 5, 9, 2]  "
      ]
     },
     "execution_count": 18,
     "metadata": {},
     "output_type": "execute_result"
    }
   ],
   "source": [
    "language_data.head()"
   ]
  },
  {
   "cell_type": "code",
   "execution_count": 19,
   "metadata": {},
   "outputs": [],
   "source": [
    "small_data = language_data[['letter_li', 'number_li']]"
   ]
  },
  {
   "cell_type": "code",
   "execution_count": null,
   "metadata": {},
   "outputs": [],
   "source": []
  }
 ],
 "metadata": {
  "kernelspec": {
   "display_name": "Python 3",
   "language": "python",
   "name": "python3"
  },
  "language_info": {
   "codemirror_mode": {
    "name": "ipython",
    "version": 3
   },
   "file_extension": ".py",
   "mimetype": "text/x-python",
   "name": "python",
   "nbconvert_exporter": "python",
   "pygments_lexer": "ipython3",
   "version": "3.7.6"
  }
 },
 "nbformat": 4,
 "nbformat_minor": 4
}
