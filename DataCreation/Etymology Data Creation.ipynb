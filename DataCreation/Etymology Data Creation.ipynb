{
 "cells": [
  {
   "cell_type": "code",
   "execution_count": null,
   "metadata": {},
   "outputs": [],
   "source": [
    "# -*- coding: utf-8 -*-\n",
    "\"\"\"\n",
    "Created on Wed Jan 12 18:20:37 2022\n",
    "\n",
    "@author: 18053\n",
    "\"\"\"\n",
    "\n",
    "\n",
    "import os\n",
    "import pandas as pd\n",
    "import numpy as np\n",
    "import copy\n",
    "\n",
    "df = pd.read_csv('data.tsv', sep='\\t', header=None)\n",
    "df.columns = ['word', 'relation', 'related_word']\n",
    "df = df[df['relation'] == \"rel:etymology\"]\n",
    "\n",
    "df['word'] = df['word'].apply(lambda x: x.split(': '))\n",
    "df['related_word'] = df['related_word'].apply(lambda x: x.split(': '))\n",
    "\n",
    "df['word_language'] = df['word'].apply(lambda x: x[0])\n",
    "df['word'] = df['word'].apply(lambda x: x[1])\n",
    "\n",
    "df['related_word_language'] = df['related_word'].apply(lambda x: x[0])\n",
    "df['related_word'] = df['related_word'].apply(lambda x: x[1])\n",
    "\n",
    "df = df[['word', 'word_language', 'related_word',\n",
    "         'related_word_language']]\n",
    "\n",
    "#df = df[~df['word'].str.contains('-')]\n",
    "\n",
    "x = df[(df['word_language'] == 'eng')]\n",
    "pivot = pd.pivot_table(data = x, index = 'related_word_language',\n",
    "                       values='word_language',\n",
    "                       aggfunc='count').sort_values('word_language', ascending=False)\n",
    "# enm = middle english\n",
    "# ang = old english\n",
    "print(pivot.head(15))"
   ]
  },
  {
   "cell_type": "code",
   "execution_count": null,
   "metadata": {},
   "outputs": [],
   "source": [
    "df.to_csv('small_data.csv')"
   ]
  },
  {
   "cell_type": "code",
   "execution_count": null,
   "metadata": {},
   "outputs": [],
   "source": [
    "copy_df = copy.deepcopy(df)\n",
    "copy_df.columns = ['related_word', 'related_word_language', 'word3', 'word3_language']"
   ]
  },
  {
   "cell_type": "code",
   "execution_count": null,
   "metadata": {},
   "outputs": [],
   "source": [
    "new_df = df.merge(copy_df, on = ['related_word', 'related_word_language'], how='inner')\n",
    "new_df.head()"
   ]
  },
  {
   "cell_type": "code",
   "execution_count": null,
   "metadata": {},
   "outputs": [],
   "source": [
    "def find_root_language(word):\n",
    "    print(word)\n",
    "    temp = df[(df['word'] == word) & \n",
    "              ~(df['related_word'].str.contains('-')) &\n",
    "               (df['word_language'] == 'eng')]\n",
    "    #print(temp)\n",
    "    if temp.shape[0] == 0:\n",
    "        temp = df[(df['word'] == word) & (df['word_language'] == 'eng')]\n",
    "        if temp.shape[0] == 0:\n",
    "            return np.nan\n",
    "        \n",
    "    new_word, language = temp.iloc[0, 2], temp.iloc[0, 3]\n",
    "    if new_word == word:\n",
    "        return np.nan\n",
    "    \n",
    "    if language == 'eng':\n",
    "        return find_root_language(new_word)\n",
    "    else:\n",
    "        return language"
   ]
  },
  {
   "cell_type": "code",
   "execution_count": null,
   "metadata": {},
   "outputs": [],
   "source": [
    "english_df = df[df['word_language'] == 'eng']"
   ]
  },
  {
   "cell_type": "code",
   "execution_count": null,
   "metadata": {},
   "outputs": [],
   "source": [
    "test_df = copy.deepcopy(english_df)"
   ]
  },
  {
   "cell_type": "code",
   "execution_count": null,
   "metadata": {},
   "outputs": [],
   "source": [
    "english_df = english_df[~english_df['word'].str.contains('\\'')]\n",
    "english_df = english_df[~english_df['word'].str.contains('-')]\n",
    "english_df = english_df[~english_df['word'].str.contains('\\d')]\n",
    "english_df = english_df[english_df['word'] <= 'zzzzzz']\n",
    "english_df['word'] = english_df['word'].apply(lambda x: x.lower())"
   ]
  },
  {
   "cell_type": "code",
   "execution_count": null,
   "metadata": {},
   "outputs": [],
   "source": [
    "word_li = english_df['word'].values"
   ]
  },
  {
   "cell_type": "code",
   "execution_count": null,
   "metadata": {},
   "outputs": [],
   "source": [
    "english_df['origin'] = english_df['word'].apply(lambda x: word_dict[x])"
   ]
  },
  {
   "cell_type": "code",
   "execution_count": null,
   "metadata": {},
   "outputs": [],
   "source": [
    "english_df[~pd.notnull(english_df['origin'])].tail()"
   ]
  },
  {
   "cell_type": "code",
   "execution_count": null,
   "metadata": {},
   "outputs": [],
   "source": [
    "def find_root_language(word):\n",
    "    temp = df[(df['word'] == word) &\n",
    "              ~(df['related_word'].str.contains('-')) &\n",
    "               (df['word_language'] == 'eng')]\n",
    "\n",
    "    if temp.shape[0] == 0:\n",
    "        temp = df[(df['word'] == word) & (df['word_language'] == 'eng')]\n",
    "        if temp.shape[0] == 0:\n",
    "            return None\n",
    "       \n",
    "    new_word, language = temp.iloc[0, 2], temp.iloc[0, 3]\n",
    "    \n",
    "    if new_word == word and language == 'eng':\n",
    "        return None\n",
    "    \n",
    "    if language == 'eng':\n",
    "        return find_root_language(new_word)\n",
    "    else:\n",
    "        return language"
   ]
  },
  {
   "cell_type": "code",
   "execution_count": null,
   "metadata": {},
   "outputs": [],
   "source": [
    "import time"
   ]
  },
  {
   "cell_type": "code",
   "execution_count": null,
   "metadata": {},
   "outputs": [],
   "source": [
    "i = 0\n",
    "j = 0\n",
    "for word in word_dict.keys():\n",
    "    if word_dict[word] == None:\n",
    "        new_lang = find_root_language(word)\n",
    "        word_dict[word] = new_lang\n",
    "        \n",
    "        if new_lang != None:\n",
    "            if i % 100 == 0 and i > 0:\n",
    "                t0 = time.perf_counter()\n",
    "                print('outputting to json ending with word ', word, ' number', i)\n",
    "                with open(\"sample.json\", \"w\") as outfile:\n",
    "                    json.dump(word_dict, outfile)\n",
    "                t1 = time.perf_counter()\n",
    "                print(f\"Outputted json in {t1 - t0:0.2f} seconds\")\n",
    "            i += 1\n",
    "    j += 1\n",
    "    if j % 1000 == 0:\n",
    "            print('current word:', word, ' number:', j)"
   ]
  },
  {
   "cell_type": "code",
   "execution_count": null,
   "metadata": {},
   "outputs": [],
   "source": [
    "english_df['origin'] = english_df['word'].apply(lambda x: word_dict[x])"
   ]
  },
  {
   "cell_type": "code",
   "execution_count": null,
   "metadata": {},
   "outputs": [],
   "source": [
    "final_df = copy.deepcopy(english_df)\n",
    "final_df = final_df.drop_duplicates('word',keep='first')"
   ]
  },
  {
   "cell_type": "code",
   "execution_count": null,
   "metadata": {},
   "outputs": [],
   "source": [
    "codes = pd.read_csv('language-codes-full_csv.csv')\n",
    "#codes.columns = ['origin', 'two', 'full_name']\n",
    "codes = codes.iloc[:, [0,3]]\n",
    "codes.columns = ['origin', 'full_name']"
   ]
  },
  {
   "cell_type": "code",
   "execution_count": null,
   "metadata": {},
   "outputs": [],
   "source": [
    "final_df = final_df.merge(codes, on='origin', how='left')"
   ]
  },
  {
   "cell_type": "code",
   "execution_count": null,
   "metadata": {},
   "outputs": [],
   "source": [
    "final_df[pd.notnull(final_df['full_name'])]"
   ]
  },
  {
   "cell_type": "code",
   "execution_count": null,
   "metadata": {},
   "outputs": [],
   "source": [
    "pivot = pd.pivot_table(data=final_df[pd.notnull(final_df['full_name'])],\n",
    "        index=['full_name'],\n",
    "        values=['word'],\n",
    "        aggfunc='count').reset_index()"
   ]
  },
  {
   "cell_type": "code",
   "execution_count": null,
   "metadata": {},
   "outputs": [],
   "source": [
    "pivot.to_csv('language_list.csv')"
   ]
  },
  {
   "cell_type": "code",
   "execution_count": null,
   "metadata": {},
   "outputs": [],
   "source": [
    "grouping = pd.read_csv('test.csv')\n",
    "grouping.head()"
   ]
  },
  {
   "cell_type": "code",
   "execution_count": null,
   "metadata": {},
   "outputs": [],
   "source": [
    "final_df = final_df.merge(grouping, on='full_name', how='left')"
   ]
  },
  {
   "cell_type": "code",
   "execution_count": null,
   "metadata": {},
   "outputs": [],
   "source": [
    "language_df = final_df.loc[pd.notnull(final_df['origin']), ['word', 'origin', 'full_name', 'Group']]"
   ]
  },
  {
   "cell_type": "code",
   "execution_count": null,
   "metadata": {},
   "outputs": [],
   "source": [
    "pivot = pd.pivot_table(data=language_df[pd.isnull(language_df['full_name'])],\n",
    "               index='origin',\n",
    "               values=['word'],\n",
    "               aggfunc='count').reset_index().sort_values('word', ascending=False)"
   ]
  },
  {
   "cell_type": "code",
   "execution_count": null,
   "metadata": {},
   "outputs": [],
   "source": [
    "pivot[pivot['word'] > 10]"
   ]
  },
  {
   "cell_type": "code",
   "execution_count": null,
   "metadata": {},
   "outputs": [],
   "source": [
    "language_df.loc[language_df['origin'] == 'fra','full_name'] = 'French'\n",
    "language_df.loc[language_df['origin'] == 'fra','Group'] = 'Latin'"
   ]
  },
  {
   "cell_type": "code",
   "execution_count": null,
   "metadata": {},
   "outputs": [],
   "source": [
    "language_df.loc[language_df['origin'] == 'deu','full_name'] = 'German'\n",
    "language_df.loc[language_df['origin'] == 'deu','Group'] = 'Germanic'"
   ]
  },
  {
   "cell_type": "code",
   "execution_count": null,
   "metadata": {},
   "outputs": [],
   "source": [
    "language_df.loc[language_df['origin'] == 'nld','full_name'] = 'Dutch;Flemish'\n",
    "language_df.loc[language_df['origin'] == 'nld','Group'] = 'Germanic'"
   ]
  },
  {
   "cell_type": "code",
   "execution_count": null,
   "metadata": {},
   "outputs": [],
   "source": [
    "language_df.loc[language_df['origin'] == 'xno','full_name'] = 'Anglo-Norman'\n",
    "language_df.loc[language_df['origin'] == 'xno','Group'] = 'Germanic'"
   ]
  },
  {
   "cell_type": "code",
   "execution_count": null,
   "metadata": {},
   "outputs": [],
   "source": [
    "language_df.loc[language_df['origin'] == 'msa','full_name'] = 'Malay'\n",
    "language_df.loc[language_df['origin'] == 'msa','Group'] = 'Other'"
   ]
  },
  {
   "cell_type": "code",
   "execution_count": null,
   "metadata": {},
   "outputs": [],
   "source": [
    "language_df.loc[language_df['origin'] == 'fas','full_name'] = 'Persian'\n",
    "language_df.loc[language_df['origin'] == 'fas','Group'] = 'Other'"
   ]
  },
  {
   "cell_type": "code",
   "execution_count": null,
   "metadata": {},
   "outputs": [],
   "source": [
    "language_df.loc[language_df['origin'] == 'hye','full_name'] = 'Armenian'\n",
    "language_df.loc[language_df['origin'] == 'hye','Group'] = 'Other'"
   ]
  },
  {
   "cell_type": "code",
   "execution_count": null,
   "metadata": {},
   "outputs": [],
   "source": [
    "language_df.loc[language_df['origin'] == 'cmn','full_name'] = 'Mandarin Chinese'\n",
    "language_df.loc[language_df['origin'] == 'cmn','Group'] = 'Other'"
   ]
  },
  {
   "cell_type": "code",
   "execution_count": null,
   "metadata": {},
   "outputs": [],
   "source": [
    "language_df.loc[language_df['origin'] == 'ell','full_name'] = 'Modern Greek'\n",
    "language_df.loc[language_df['origin'] == 'ell','Group'] = 'Other'"
   ]
  },
  {
   "cell_type": "code",
   "execution_count": null,
   "metadata": {},
   "outputs": [],
   "source": [
    "language_data = pd.read_csv(\"language_data.csv\")\n",
    "language_data = language_data[pd.notnull(language_data['full_name'])]\n",
    "language_data = language_data[pd.notnull(language_data['word'])]\n",
    "language_data = language_data[pd.notnull(language_data['Group'])]\n",
    "language_data.loc[language_data['full_name'].str.contains('Greek'), 'Group'] = 'Greek'\n",
    "language_data.loc[language_data['full_name'].str.contains('Turkish'), 'Group'] = 'Other'\n",
    "language_data['word_len'] = language_data['word'].apply(lambda x: len(x))\n",
    "language_data = language_data[language_data['word_len'] < 25]\n",
    "language_data.to_csv('language_data.csv', index=False)"
   ]
  },
  {
   "cell_type": "code",
   "execution_count": null,
   "metadata": {},
   "outputs": [],
   "source": []
  }
 ],
 "metadata": {
  "kernelspec": {
   "display_name": "Python 3",
   "language": "python",
   "name": "python3"
  },
  "language_info": {
   "codemirror_mode": {
    "name": "ipython",
    "version": 3
   },
   "file_extension": ".py",
   "mimetype": "text/x-python",
   "name": "python",
   "nbconvert_exporter": "python",
   "pygments_lexer": "ipython3",
   "version": "3.7.6"
  }
 },
 "nbformat": 4,
 "nbformat_minor": 4
}
