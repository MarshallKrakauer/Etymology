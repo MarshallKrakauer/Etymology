{
 "cells": [
  {
   "cell_type": "markdown",
   "metadata": {},
   "source": [
    "# Setup"
   ]
  },
  {
   "cell_type": "code",
   "execution_count": 1,
   "metadata": {},
   "outputs": [],
   "source": [
    "# !pip install -U -q segmentation-models\n",
    "# !pip install -q tensorflow==2.1\n",
    "# !pip install -q keras==2.3.1\n",
    "# !pip install -q tensorflow-estimator==2.1.\n",
    "\n",
    "# ## Imports libs\n",
    "# import os\n",
    "# os.environ['CUDA_VISIBLE_DEVICES'] = '0'\n",
    "# os.environ[\"SM_FRAMEWORK\"] = \"tf.keras\"\n",
    "\n",
    "# from tensorflow import keras\n",
    "# import segmentation_models as sm"
   ]
  },
  {
   "cell_type": "code",
   "execution_count": 501,
   "metadata": {},
   "outputs": [],
   "source": [
    "import numpy as np\n",
    "import pandas as pd\n",
    "import tensorflow as tf\n",
    "from tensorflow import keras\n",
    "from tensorflow.keras import layers\n",
    "from collections import Counter\n",
    "from keras.preprocessing import sequence\n",
    "import random\n",
    "import matplotlib.pyplot as plt\n",
    "import copy"
   ]
  },
  {
   "cell_type": "code",
   "execution_count": 3,
   "metadata": {},
   "outputs": [],
   "source": [
    "def create_letter_mapping(all_words):\n",
    "    letter_li = []\n",
    "    \n",
    "    # Get unique letters in the data\n",
    "    for word in all_words:\n",
    "        for letter in word:\n",
    "            letter_li.append(letter)\n",
    "    \n",
    "    # order letters by most common\n",
    "    most_common = Counter(letter_li).most_common()\n",
    "    letter_li = []\n",
    "    for elem in most_common:\n",
    "        letter_li.append(elem[0])\n",
    "    \n",
    "    # Map each letter to an integer\n",
    "    letter_dict = {}\n",
    "    for idx, letter in enumerate(letter_li):\n",
    "        if letter_dict != '':\n",
    "            letter_dict[letter] = idx + 1\n",
    "        else:\n",
    "            letter_dict[letter] = 0\n",
    "    \n",
    "    return letter_dict\n",
    "\n",
    "def letter_to_number(word_li, letter_dict):\n",
    "    return_li = []\n",
    "    for letter in word_li:\n",
    "        return_li.append(letter_dict[letter])\n",
    "        \n",
    "    return return_li\n",
    "\n",
    "def pad_list(letter_li, pad_num=25):\n",
    "    curr_len = len(letter_li)\n",
    "    new_len = 25 - curr_len\n",
    "    zeroes = [0] * new_len\n",
    "    zeroes.extend(letter_li)\n",
    "    return zeroes"
   ]
  },
  {
   "cell_type": "markdown",
   "metadata": {},
   "source": [
    "# Fixing Language Groups"
   ]
  },
  {
   "cell_type": "code",
   "execution_count": 194,
   "metadata": {},
   "outputs": [],
   "source": [
    "lan_df = pd.read_csv('language_data.csv')"
   ]
  },
  {
   "cell_type": "code",
   "execution_count": 195,
   "metadata": {},
   "outputs": [],
   "source": [
    "lan_df.fillna('Other', inplace=True)"
   ]
  },
  {
   "cell_type": "code",
   "execution_count": 247,
   "metadata": {},
   "outputs": [],
   "source": [
    "lan_df.loc[lan_df['full_name'].str.contains('English'), 'Group'] = 'Germanic'\n",
    "lan_df.loc[lan_df['full_name'].str.contains('Dutch'), 'Group'] = 'Germanic'\n",
    "lan_df.loc[lan_df['full_name'].str.contains('Norse'), 'Group'] = 'Germanic'\n",
    "lan_df.loc[lan_df['full_name'].str.contains('Germ'), 'Group'] = 'Germanic'\n",
    "\n",
    "lan_df.loc[lan_df['full_name'].str.contains('French'), 'Group'] = 'Latin'\n",
    "lan_df.loc[lan_df['full_name'].str.contains('Greek'), 'Group'] = 'Greek'\n",
    "lan_df.loc[lan_df['full_name'].str.contains('Hebrew'), 'Group'] = 'Other'\n",
    "\n",
    "lan_df.loc[lan_df['full_name'] == 'Sanskrit', 'Group'] = 'Indo-Aryan'\n",
    "lan_df.loc[lan_df['full_name'] == 'Hindi', 'Group'] = 'Indo-Aryan'\n",
    "\n",
    "lan_df = lan_df[lan_df['Group'] != 'Arabic']\n",
    "lan_df = lan_df[lan_df['Group'] != 'Turkish']\n",
    "lan_df = lan_df[lan_df['Group'] != 'Indo-Aryan']\n",
    "\n",
    "\n",
    "lan_df = lan_df[lan_df['Group'] != 'Other']"
   ]
  },
  {
   "cell_type": "markdown",
   "metadata": {},
   "source": [
    "# Date Cleanup"
   ]
  },
  {
   "cell_type": "code",
   "execution_count": 248,
   "metadata": {},
   "outputs": [],
   "source": [
    "lan_df.reset_index(inplace=True,drop=True)"
   ]
  },
  {
   "cell_type": "code",
   "execution_count": 249,
   "metadata": {},
   "outputs": [],
   "source": [
    "group_dict = {}\n",
    "for idx, value in enumerate(lan_df.Group.unique()):\n",
    "    group_dict[value] = idx\n",
    "    \n",
    "lan_df['group_int'] = lan_df['Group'].apply(lambda x: group_dict[x])"
   ]
  },
  {
   "cell_type": "code",
   "execution_count": 250,
   "metadata": {},
   "outputs": [
    {
     "data": {
      "text/plain": [
       "{'Germanic': 0, 'Greek': 1, 'Latin': 2, 'Japanese': 3}"
      ]
     },
     "execution_count": 250,
     "metadata": {},
     "output_type": "execute_result"
    }
   ],
   "source": [
    "group_dict"
   ]
  },
  {
   "cell_type": "code",
   "execution_count": 251,
   "metadata": {},
   "outputs": [],
   "source": [
    "lan_df['letter_li'] = lan_df['word'].apply(lambda x: list(x))"
   ]
  },
  {
   "cell_type": "code",
   "execution_count": 252,
   "metadata": {},
   "outputs": [],
   "source": [
    "map_dict = create_letter_mapping(lan_df['word'].values)"
   ]
  },
  {
   "cell_type": "code",
   "execution_count": 253,
   "metadata": {},
   "outputs": [],
   "source": [
    "lan_df['letter_ints'] = lan_df['letter_li'].apply(lambda x: pad_list(letter_to_number(x, map_dict)))"
   ]
  },
  {
   "cell_type": "code",
   "execution_count": 254,
   "metadata": {},
   "outputs": [],
   "source": [
    "SHAPE = lan_df.shape[0]"
   ]
  },
  {
   "cell_type": "code",
   "execution_count": 255,
   "metadata": {},
   "outputs": [],
   "source": [
    "word_arr = np.empty(SHAPE, dtype=list)\n",
    "origin_arr = np.empty(SHAPE, dtype=int)"
   ]
  },
  {
   "cell_type": "code",
   "execution_count": 256,
   "metadata": {},
   "outputs": [],
   "source": [
    "for i in range(SHAPE):\n",
    "    word_arr[i] = lan_df.loc[i, 'letter_ints']\n",
    "    origin_arr[i] = lan_df.loc[i, 'group_int']"
   ]
  },
  {
   "cell_type": "code",
   "execution_count": 257,
   "metadata": {},
   "outputs": [],
   "source": [
    "# pad array so that all words have length of 25\n",
    "word_arr = sequence.pad_sequences(word_arr, 25)"
   ]
  },
  {
   "cell_type": "code",
   "execution_count": 258,
   "metadata": {},
   "outputs": [],
   "source": [
    "# Develop random index for train test split\n",
    "random.seed(0)\n",
    "rng = np.arange(SHAPE)\n",
    "random.shuffle(rng)"
   ]
  },
  {
   "cell_type": "code",
   "execution_count": 411,
   "metadata": {},
   "outputs": [],
   "source": [
    "train_len = int(SHAPE * 0.7)\n",
    "train_idx = rng[:train_len]\n",
    "test_idx = rng[train_len:]"
   ]
  },
  {
   "cell_type": "code",
   "execution_count": null,
   "metadata": {},
   "outputs": [],
   "source": []
  },
  {
   "cell_type": "code",
   "execution_count": 412,
   "metadata": {},
   "outputs": [],
   "source": [
    "X_train, y_train = word_arr[train_idx], origin_arr[train_idx]\n",
    "X_test, y_test = word_arr[test_idx], origin_arr[test_idx]"
   ]
  },
  {
   "cell_type": "markdown",
   "metadata": {},
   "source": [
    "# Models"
   ]
  },
  {
   "cell_type": "code",
   "execution_count": 413,
   "metadata": {},
   "outputs": [],
   "source": [
    "embedding_model = tf.keras.Sequential([\n",
    "    tf.keras.layers.Embedding(len(map_dict) + 1, 64),\n",
    "    tf.keras.layers.LSTM(64, return_sequences=True),\n",
    "    tf.keras.layers.LSTM(32, return_sequences=False),\n",
    "    tf.keras.layers.Dense(len(group_dict), activation=\"softmax\")\n",
    "])"
   ]
  },
  {
   "cell_type": "code",
   "execution_count": 414,
   "metadata": {},
   "outputs": [],
   "source": [
    "# classes = len(group_dict)\n",
    "# embed_dims = 32\n",
    "# stack_model = tf.keras.Sequential([\n",
    "#     tf.keras.layers.Embedding(len(map_dict) + 1, embed_dims),\n",
    "#     tf.keras.layers.LSTM(64, return_sequences=True),\n",
    "#     tf.keras.layers.LSTM(32, return_sequences=False),\n",
    "#     tf.keras.layers.Dense(classes, activation=\"softmax\")\n",
    "# ])"
   ]
  },
  {
   "cell_type": "code",
   "execution_count": 415,
   "metadata": {},
   "outputs": [
    {
     "name": "stdout",
     "output_type": "stream",
     "text": [
      "Train on 31271 samples, validate on 7818 samples\n",
      "Epoch 1/10\n",
      "31271/31271 [==============================] - 22s 716us/sample - loss: 0.7694 - acc: 0.6613 - val_loss: 0.7188 - val_acc: 0.6842\n",
      "Epoch 2/10\n",
      "31271/31271 [==============================] - 27s 856us/sample - loss: 0.6840 - acc: 0.6997 - val_loss: 0.6619 - val_acc: 0.7160\n",
      "Epoch 3/10\n",
      "31271/31271 [==============================] - 24s 765us/sample - loss: 0.6471 - acc: 0.7176 - val_loss: 0.6403 - val_acc: 0.7278\n",
      "Epoch 4/10\n",
      "31271/31271 [==============================] - 23s 743us/sample - loss: 0.6180 - acc: 0.7330 - val_loss: 0.6329 - val_acc: 0.7242\n",
      "Epoch 5/10\n",
      "31271/31271 [==============================] - 25s 787us/sample - loss: 0.5907 - acc: 0.7484 - val_loss: 0.6085 - val_acc: 0.7386\n",
      "Epoch 6/10\n",
      "31271/31271 [==============================] - 24s 760us/sample - loss: 0.5702 - acc: 0.7578 - val_loss: 0.5811 - val_acc: 0.7549\n",
      "Epoch 7/10\n",
      "31271/31271 [==============================] - 22s 718us/sample - loss: 0.5496 - acc: 0.7682 - val_loss: 0.5667 - val_acc: 0.7648\n",
      "Epoch 8/10\n",
      "31271/31271 [==============================] - 22s 699us/sample - loss: 0.5297 - acc: 0.7768 - val_loss: 0.5559 - val_acc: 0.7699\n",
      "Epoch 9/10\n",
      "31271/31271 [==============================] - 21s 668us/sample - loss: 0.5108 - acc: 0.7855 - val_loss: 0.5446 - val_acc: 0.7712\n",
      "Epoch 10/10\n",
      "31271/31271 [==============================] - 21s 661us/sample - loss: 0.4913 - acc: 0.7938 - val_loss: 0.5397 - val_acc: 0.7786\n"
     ]
    }
   ],
   "source": [
    "embedding_model.compile(loss=\"sparse_categorical_crossentropy\",optimizer=\"rmsprop\",metrics=['acc'])\n",
    "history = embedding_model.fit(X_train, y_train, epochs=10, validation_split=0.2)"
   ]
  },
  {
   "cell_type": "code",
   "execution_count": 295,
   "metadata": {},
   "outputs": [],
   "source": [
    "# stack_model.compile(loss=\"sparse_categorical_crossentropy\",optimizer=\"rmsprop\",metrics=['acc'])\n",
    "# history_1 = embedding_model.fit(X_train, y_train, epochs=10, validation_split=0.2)"
   ]
  },
  {
   "cell_type": "markdown",
   "metadata": {},
   "source": [
    "# Predicting Individual Words"
   ]
  },
  {
   "cell_type": "code",
   "execution_count": 416,
   "metadata": {},
   "outputs": [],
   "source": [
    "def get_word_prediction(test_word, model):\n",
    "    temp = pad_list(letter_to_number(list(test_word), map_dict))\n",
    "    temp = model.predict(np.array([temp]))\n",
    "    temp_df = pd.DataFrame(data={'group':[elem for elem in group_dict.keys()], 'probability' : temp[0] * 100})\n",
    "    return temp_df"
   ]
  },
  {
   "cell_type": "code",
   "execution_count": 592,
   "metadata": {},
   "outputs": [
    {
     "data": {
      "text/html": [
       "<div>\n",
       "<style scoped>\n",
       "    .dataframe tbody tr th:only-of-type {\n",
       "        vertical-align: middle;\n",
       "    }\n",
       "\n",
       "    .dataframe tbody tr th {\n",
       "        vertical-align: top;\n",
       "    }\n",
       "\n",
       "    .dataframe thead th {\n",
       "        text-align: right;\n",
       "    }\n",
       "</style>\n",
       "<table border=\"1\" class=\"dataframe\">\n",
       "  <thead>\n",
       "    <tr style=\"text-align: right;\">\n",
       "      <th></th>\n",
       "      <th>group</th>\n",
       "      <th>probability</th>\n",
       "    </tr>\n",
       "  </thead>\n",
       "  <tbody>\n",
       "    <tr>\n",
       "      <th>0</th>\n",
       "      <td>Germanic</td>\n",
       "      <td>14.884970</td>\n",
       "    </tr>\n",
       "    <tr>\n",
       "      <th>1</th>\n",
       "      <td>Greek</td>\n",
       "      <td>0.746039</td>\n",
       "    </tr>\n",
       "    <tr>\n",
       "      <th>2</th>\n",
       "      <td>Latin</td>\n",
       "      <td>1.557079</td>\n",
       "    </tr>\n",
       "    <tr>\n",
       "      <th>3</th>\n",
       "      <td>Japanese</td>\n",
       "      <td>82.811913</td>\n",
       "    </tr>\n",
       "  </tbody>\n",
       "</table>\n",
       "</div>"
      ],
      "text/plain": [
       "      group  probability\n",
       "0  Germanic    14.884970\n",
       "1     Greek     0.746039\n",
       "2     Latin     1.557079\n",
       "3  Japanese    82.811913"
      ]
     },
     "execution_count": 592,
     "metadata": {},
     "output_type": "execute_result"
    }
   ],
   "source": [
    "get_word_prediction('klauskinski', embedding_model)"
   ]
  },
  {
   "cell_type": "code",
   "execution_count": 424,
   "metadata": {},
   "outputs": [],
   "source": [
    "preds = embedding_model.predict(X_test)"
   ]
  },
  {
   "cell_type": "code",
   "execution_count": 437,
   "metadata": {},
   "outputs": [
    {
     "data": {
      "text/plain": [
       "array([1.4873733e-01, 4.9757056e-02, 8.0140561e-01, 1.0004165e-04],\n",
       "      dtype=float32)"
      ]
     },
     "execution_count": 437,
     "metadata": {},
     "output_type": "execute_result"
    }
   ],
   "source": [
    "preds[2]"
   ]
  },
  {
   "cell_type": "code",
   "execution_count": 425,
   "metadata": {},
   "outputs": [],
   "source": [
    "def convert_prediction(pred_list):\n",
    "    max_value = -100\n",
    "    max_idx = -1\n",
    "    for idx,value in enumerate(pred_list):\n",
    "        if value > max_value:\n",
    "            max_value = value\n",
    "            max_idx = idx\n",
    "    \n",
    "    return max_idx"
   ]
  },
  {
   "cell_type": "code",
   "execution_count": 438,
   "metadata": {},
   "outputs": [],
   "source": [
    "result_list = []\n",
    "germanic_li = []\n",
    "for elem in preds:\n",
    "    result_list.append(convert_prediction(elem))\n",
    "    germanic_li.append(elem[2])"
   ]
  },
  {
   "cell_type": "code",
   "execution_count": 440,
   "metadata": {},
   "outputs": [
    {
     "data": {
      "text/plain": [
       "0.7760401122187071"
      ]
     },
     "execution_count": 440,
     "metadata": {},
     "output_type": "execute_result"
    }
   ],
   "source": [
    "result_df = pd.DataFrame(data={'y_actual': y_test, \n",
    "        'y_pred': result_list,\n",
    "         'prob_germanic' : germanic_li})\n",
    "result_df['correct'] =  1.0 * (result_df['y_actual'] == result_df['y_pred'])"
   ]
  },
  {
   "cell_type": "code",
   "execution_count": 448,
   "metadata": {},
   "outputs": [],
   "source": [
    "result_df['is_germanic'] = result_df['y_actual'] == 2"
   ]
  },
  {
   "cell_type": "code",
   "execution_count": 483,
   "metadata": {},
   "outputs": [],
   "source": [
    "avg_li = []\n",
    "pred_li = []\n",
    "for x in range(0,100,10):\n",
    "    num1, num2 = x, x + 10\n",
    "    avg_li.append((num1+num2)/2)\n",
    "    pred_li.append(result_df.loc[(result_df['prob_germanic'] >= num1 / 100) & \n",
    "               (result_df['prob_germanic'] <= num2 / 100), 'is_germanic'].mean() * 100)"
   ]
  },
  {
   "cell_type": "code",
   "execution_count": 484,
   "metadata": {},
   "outputs": [
    {
     "data": {
      "text/plain": [
       "[6.73385249656436,\n",
       " 20.61211742660837,\n",
       " 31.06796116504854,\n",
       " 40.92165898617511,\n",
       " 51.6,\n",
       " 58.605664488017425,\n",
       " 63.55511420059583,\n",
       " 73.5973597359736,\n",
       " 82.02368137782562,\n",
       " 92.34817813765183]"
      ]
     },
     "execution_count": 484,
     "metadata": {},
     "output_type": "execute_result"
    }
   ],
   "source": [
    "pred_li"
   ]
  },
  {
   "cell_type": "code",
   "execution_count": 594,
   "metadata": {},
   "outputs": [
    {
     "data": {
      "text/plain": [
       "<matplotlib.legend.Legend at 0x1db3b189648>"
      ]
     },
     "execution_count": 594,
     "metadata": {},
     "output_type": "execute_result"
    },
    {
     "data": {
      "image/png": "[encoded data removed]",
      "text/plain": [
       "<Figure size 648x504 with 1 Axes>"
      ]
     },
     "metadata": {
      "needs_background": "light"
     },
     "output_type": "display_data"
    }
   ],
   "source": [
    "plt.rcParams[\"figure.figsize\"] = (9,7)\n",
    "plt.plot([0,100], [0,100], label='Perfect', linestyle='--', color = 'grey')\n",
    "plt.plot(avg_li, pred_li, label='Model', color = 'red')\n",
    "plt.legend()"
   ]
  },
  {
   "cell_type": "code",
   "execution_count": 488,
   "metadata": {},
   "outputs": [
    {
     "data": {
      "text/plain": [
       "array([0, 2, 3, ..., 0, 2, 1])"
      ]
     },
     "execution_count": 488,
     "metadata": {},
     "output_type": "execute_result"
    }
   ],
   "source": [
    "y_train"
   ]
  },
  {
   "cell_type": "code",
   "execution_count": 494,
   "metadata": {},
   "outputs": [],
   "source": [
    "random_prediction = random.sample([elem for elem in y_train], len(y_test))"
   ]
  },
  {
   "cell_type": "code",
   "execution_count": 499,
   "metadata": {},
   "outputs": [],
   "source": [
    "result_df['is_germanic'] = result_df['is_germanic'] * 1.0"
   ]
  },
  {
   "cell_type": "code",
   "execution_count": 502,
   "metadata": {},
   "outputs": [],
   "source": [
    "result_df.sort_values('prob_germanic', ascending=False, inplace=True)\n",
    "lift_df = copy.deepcopy(result_df)"
   ]
  },
  {
   "cell_type": "code",
   "execution_count": 510,
   "metadata": {},
   "outputs": [],
   "source": [
    "lift_df.reset_index(inplace=True, drop=True)"
   ]
  },
  {
   "cell_type": "code",
   "execution_count": 547,
   "metadata": {},
   "outputs": [],
   "source": [
    "# lift_df['naive'] = lift_df.is_germanic.mean()"
   ]
  },
  {
   "cell_type": "code",
   "execution_count": 518,
   "metadata": {},
   "outputs": [],
   "source": [
    "total_hits = lift_df['is_germanic'].sum()\n",
    "num_rows = lift_df.shape[0]\n",
    "\n",
    "lift_li = []\n",
    "for i in range(1,100):\n",
    "    row_max = num_rows * (i/100)\n",
    "    num_hits = result_df.loc[lift_df.index < int(row_max),'is_germanic'].sum()\n",
    "    lift_li.append(num_hits/total_hits * 100)"
   ]
  },
  {
   "cell_type": "code",
   "execution_count": 550,
   "metadata": {},
   "outputs": [
    {
     "data": {
      "text/plain": [
       "<matplotlib.legend.Legend at 0x1db55804388>"
      ]
     },
     "execution_count": 550,
     "metadata": {},
     "output_type": "execute_result"
    },
    {
     "data": {
      "image/png": "[encoded data removed]",
      "text/plain": [
       "<Figure size 648x504 with 1 Axes>"
      ]
     },
     "metadata": {
      "needs_background": "light"
     },
     "output_type": "display_data"
    }
   ],
   "source": [
    "plt.plot(np.arange(1,100), lift_li, color='red',label= 'Model')\n",
    "plt.plot([0,100], [1,100], color='grey', linestyle='--', label='Naive')\n",
    "plt.legend()"
   ]
  },
  {
   "cell_type": "code",
   "execution_count": 540,
   "metadata": {},
   "outputs": [],
   "source": [
    "lift_ratio_li = [lift_li[x-1] / x for x in np.arange(1,100)]"
   ]
  },
  {
   "cell_type": "code",
   "execution_count": 544,
   "metadata": {},
   "outputs": [
    {
     "data": {
      "text/plain": [
       "[<matplotlib.lines.Line2D at 0x1db42dca848>]"
      ]
     },
     "execution_count": 544,
     "metadata": {},
     "output_type": "execute_result"
    },
    {
     "data": {
      "image/png": "[encoded data removed]",
      "text/plain": [
       "<Figure size 648x504 with 1 Axes>"
      ]
     },
     "metadata": {
      "needs_background": "light"
     },
     "output_type": "display_data"
    }
   ],
   "source": [
    "plt.plot(np.arange(1,100), [lift_li[x-1] / x for x in np.arange(1,100)], color='red')"
   ]
  }
 ],
 "metadata": {
  "kernelspec": {
   "display_name": "Python 3",
   "language": "python",
   "name": "python3"
  },
  "language_info": {
   "codemirror_mode": {
    "name": "ipython",
    "version": 3
   },
   "file_extension": ".py",
   "mimetype": "text/x-python",
   "name": "python",
   "nbconvert_exporter": "python",
   "pygments_lexer": "ipython3",
   "version": "3.7.6"
  }
 },
 "nbformat": 4,
 "nbformat_minor": 4
}
