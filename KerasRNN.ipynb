{
 "cells": [
  {
   "cell_type": "code",
   "execution_count": 454,
   "metadata": {},
   "outputs": [],
   "source": [
    "# !pip install -U -q segmentation-models\n",
    "# !pip install -q tensorflow==2.1\n",
    "# !pip install -q keras==2.3.1\n",
    "# !pip install -q tensorflow-estimator==2.1.\n",
    "\n",
    "# ## Imports libs\n",
    "# import os\n",
    "# os.environ['CUDA_VISIBLE_DEVICES'] = '0'\n",
    "# os.environ[\"SM_FRAMEWORK\"] = \"tf.keras\"\n",
    "\n",
    "# from tensorflow import keras\n",
    "# import segmentation_models as sm"
   ]
  },
  {
   "cell_type": "code",
   "execution_count": 455,
   "metadata": {},
   "outputs": [],
   "source": [
    "import numpy as np\n",
    "import pandas as pd\n",
    "import tensorflow as tf\n",
    "from tensorflow import keras\n",
    "from tensorflow.keras import layers\n",
    "from collections import Counter\n",
    "from keras.preprocessing import sequence\n",
    "import random"
   ]
  },
  {
   "cell_type": "code",
   "execution_count": 456,
   "metadata": {},
   "outputs": [],
   "source": [
    "def create_letter_mapping(all_words):\n",
    "    letter_li = []\n",
    "    \n",
    "    # Get unique letters in the data\n",
    "    for word in all_words:\n",
    "        for letter in word:\n",
    "            letter_li.append(letter)\n",
    "    \n",
    "    # order letters by most common\n",
    "    most_common = Counter(letter_li).most_common()\n",
    "    letter_li = []\n",
    "    for elem in most_common:\n",
    "        letter_li.append(elem[0])\n",
    "    \n",
    "    # Map each letter to an integer\n",
    "    letter_dict = {}\n",
    "    for idx, letter in enumerate(letter_li):\n",
    "        if letter_dict != '':\n",
    "            letter_dict[letter] = idx + 1\n",
    "        else:\n",
    "            letter_dict[letter] = 0\n",
    "    \n",
    "    return letter_dict\n",
    "\n",
    "def letter_to_number(word_li, letter_dict):\n",
    "    return_li = []\n",
    "    for letter in word_li:\n",
    "        return_li.append(letter_dict[letter])\n",
    "        \n",
    "    return return_li\n",
    "\n",
    "def pad_list(letter_li, pad_num=25):\n",
    "    curr_len = len(letter_li)\n",
    "    new_len = 25 - curr_len\n",
    "    zeroes = [0] * new_len\n",
    "    zeroes.extend(letter_li)\n",
    "    return zeroes"
   ]
  },
  {
   "cell_type": "code",
   "execution_count": 457,
   "metadata": {},
   "outputs": [],
   "source": [
    "lan_df = pd.read_csv('language_data.csv')"
   ]
  },
  {
   "cell_type": "code",
   "execution_count": 458,
   "metadata": {},
   "outputs": [
    {
     "data": {
      "text/plain": [
       "[('Latin', 20118),\n",
       " ('Germanic', 2177),\n",
       " ('Other', 2167),\n",
       " ('Japanese', 411),\n",
       " ('Arabic', 330)]"
      ]
     },
     "execution_count": 458,
     "metadata": {},
     "output_type": "execute_result"
    }
   ],
   "source": [
    "Counter(lan_df.Group.values).most_common()"
   ]
  },
  {
   "cell_type": "code",
   "execution_count": 459,
   "metadata": {},
   "outputs": [],
   "source": [
    "lan_df.loc[lan_df['full_name'] == 'Sanskrit', 'Group'] = 'Indo-Aryan'"
   ]
  },
  {
   "cell_type": "code",
   "execution_count": 460,
   "metadata": {},
   "outputs": [],
   "source": [
    "lan_df.loc[lan_df['full_name'] == 'Hindi', 'Group'] = 'Indo-Aryan'"
   ]
  },
  {
   "cell_type": "code",
   "execution_count": 461,
   "metadata": {},
   "outputs": [],
   "source": [
    "lan_df = lan_df[lan_df['Group'] != 'Indo-Aryan']"
   ]
  },
  {
   "cell_type": "code",
   "execution_count": 462,
   "metadata": {},
   "outputs": [],
   "source": [
    "#Counter(lan_df.loc[lan_df['Group'] == 'Other', 'full_name'].values).most_common()"
   ]
  },
  {
   "cell_type": "code",
   "execution_count": 463,
   "metadata": {},
   "outputs": [],
   "source": [
    "lan_df = lan_df[lan_df['Group'] != 'Other']"
   ]
  },
  {
   "cell_type": "code",
   "execution_count": 464,
   "metadata": {},
   "outputs": [],
   "source": [
    "lan_df.reset_index(inplace=True,drop=True)"
   ]
  },
  {
   "cell_type": "code",
   "execution_count": 465,
   "metadata": {},
   "outputs": [],
   "source": [
    "group_dict = {}\n",
    "for idx, value in enumerate(lan_df.Group.unique()):\n",
    "    group_dict[value] = idx\n",
    "    \n",
    "lan_df['group_int'] = lan_df['Group'].apply(lambda x: group_dict[x])"
   ]
  },
  {
   "cell_type": "code",
   "execution_count": 466,
   "metadata": {},
   "outputs": [],
   "source": [
    "lan_df['letter_li'] = lan_df['word'].apply(lambda x: list(x))"
   ]
  },
  {
   "cell_type": "code",
   "execution_count": 467,
   "metadata": {},
   "outputs": [],
   "source": [
    "map_dict = create_letter_mapping(lan_df['word'].values)"
   ]
  },
  {
   "cell_type": "code",
   "execution_count": 468,
   "metadata": {},
   "outputs": [],
   "source": [
    "lan_df['letter_ints'] = lan_df['letter_li'].apply(lambda x: pad_list(letter_to_number(x, map_dict)))"
   ]
  },
  {
   "cell_type": "code",
   "execution_count": 469,
   "metadata": {},
   "outputs": [
    {
     "data": {
      "text/plain": [
       "word                                                   abs brake\n",
       "origin                                                       deu\n",
       "full_name                                                 German\n",
       "Group                                                   Germanic\n",
       "word_len                                                       9\n",
       "group_int                                                      0\n",
       "letter_li                            [a, b, s,  , b, r, a, k, e]\n",
       "letter_ints    [0, 0, 0, 0, 0, 0, 0, 0, 0, 0, 0, 0, 0, 0, 0, ...\n",
       "Name: 0, dtype: object"
      ]
     },
     "execution_count": 469,
     "metadata": {},
     "output_type": "execute_result"
    }
   ],
   "source": [
    "lan_df.iloc[0, :]"
   ]
  },
  {
   "cell_type": "code",
   "execution_count": 470,
   "metadata": {},
   "outputs": [],
   "source": [
    "SHAPE = lan_df.shape[0]"
   ]
  },
  {
   "cell_type": "code",
   "execution_count": 471,
   "metadata": {},
   "outputs": [],
   "source": [
    "word_arr = np.empty(SHAPE, dtype=list)\n",
    "origin_arr = np.empty(SHAPE, dtype=int)"
   ]
  },
  {
   "cell_type": "code",
   "execution_count": 472,
   "metadata": {},
   "outputs": [],
   "source": [
    "for i in range(SHAPE):\n",
    "    word_arr[i] = lan_df.loc[i, 'letter_ints']\n",
    "    origin_arr[i] = lan_df.loc[i, 'group_int']"
   ]
  },
  {
   "cell_type": "code",
   "execution_count": 473,
   "metadata": {},
   "outputs": [],
   "source": [
    "# pad array so that all words have length of 25\n",
    "word_arr = sequence.pad_sequences(word_arr, 25)"
   ]
  },
  {
   "cell_type": "code",
   "execution_count": 474,
   "metadata": {},
   "outputs": [],
   "source": [
    "# Develop random index for train test split\n",
    "random.seed(0)\n",
    "rng = np.arange(SHAPE)\n",
    "random.shuffle(rng)"
   ]
  },
  {
   "cell_type": "code",
   "execution_count": 475,
   "metadata": {},
   "outputs": [],
   "source": [
    "train_len = int(SHAPE * 0.8)\n",
    "train_idx = rng[:train_len]\n",
    "test_idx = rng[train_len:]"
   ]
  },
  {
   "cell_type": "code",
   "execution_count": 476,
   "metadata": {},
   "outputs": [],
   "source": [
    "X_train, y_train = word_arr[train_idx], origin_arr[train_idx]\n",
    "X_test, y_test = word_arr[test_idx], origin_arr[test_idx]"
   ]
  },
  {
   "cell_type": "code",
   "execution_count": 477,
   "metadata": {},
   "outputs": [
    {
     "data": {
      "text/plain": [
       "53"
      ]
     },
     "execution_count": 477,
     "metadata": {},
     "output_type": "execute_result"
    }
   ],
   "source": [
    "len(map_dict)"
   ]
  },
  {
   "cell_type": "code",
   "execution_count": 478,
   "metadata": {},
   "outputs": [
    {
     "data": {
      "text/plain": [
       "4"
      ]
     },
     "execution_count": 478,
     "metadata": {},
     "output_type": "execute_result"
    }
   ],
   "source": [
    "len(group_dict)"
   ]
  },
  {
   "cell_type": "code",
   "execution_count": 479,
   "metadata": {},
   "outputs": [],
   "source": [
    "model = tf.keras.Sequential([\n",
    "    tf.keras.layers.Embedding(len(map_dict) + 1, 32),\n",
    "    tf.keras.layers.LSTM(32),\n",
    "    tf.keras.layers.Dense(len(group_dict), activation=\"softmax\")\n",
    "])"
   ]
  },
  {
   "cell_type": "code",
   "execution_count": 480,
   "metadata": {},
   "outputs": [
    {
     "name": "stdout",
     "output_type": "stream",
     "text": [
      "Train on 14742 samples, validate on 3686 samples\n",
      "Epoch 1/10\n",
      "14742/14742 [==============================] - 8s 518us/sample - loss: 0.4412 - acc: 0.8742 - val_loss: 0.4111 - val_acc: 0.8730\n",
      "Epoch 2/10\n",
      "14742/14742 [==============================] - 6s 384us/sample - loss: 0.3809 - acc: 0.8783 - val_loss: 0.3908 - val_acc: 0.8766\n",
      "Epoch 3/10\n",
      "14742/14742 [==============================] - 6s 375us/sample - loss: 0.3663 - acc: 0.8799 - val_loss: 0.3858 - val_acc: 0.8790\n",
      "Epoch 4/10\n",
      "14742/14742 [==============================] - 5s 343us/sample - loss: 0.3574 - acc: 0.8822 - val_loss: 0.3885 - val_acc: 0.8820\n",
      "Epoch 5/10\n",
      "14742/14742 [==============================] - 5s 340us/sample - loss: 0.3516 - acc: 0.8846 - val_loss: 0.3676 - val_acc: 0.8844\n",
      "Epoch 6/10\n",
      "14742/14742 [==============================] - 5s 343us/sample - loss: 0.3466 - acc: 0.8873 - val_loss: 0.3634 - val_acc: 0.8850\n",
      "Epoch 7/10\n",
      "14742/14742 [==============================] - 5s 350us/sample - loss: 0.3433 - acc: 0.8879 - val_loss: 0.3541 - val_acc: 0.8863\n",
      "Epoch 8/10\n",
      "14742/14742 [==============================] - 5s 351us/sample - loss: 0.3388 - acc: 0.8893 - val_loss: 0.3543 - val_acc: 0.8869\n",
      "Epoch 9/10\n",
      "14742/14742 [==============================] - 5s 346us/sample - loss: 0.3359 - acc: 0.8896 - val_loss: 0.3514 - val_acc: 0.8866\n",
      "Epoch 10/10\n",
      "14742/14742 [==============================] - 5s 348us/sample - loss: 0.3323 - acc: 0.8907 - val_loss: 0.3577 - val_acc: 0.8885\n"
     ]
    }
   ],
   "source": [
    "model.compile(loss=\"sparse_categorical_crossentropy\",optimizer=\"rmsprop\",metrics=['acc'])\n",
    "\n",
    "history = model.fit(X_train, y_train, epochs=10, validation_split=0.2)"
   ]
  },
  {
   "cell_type": "code",
   "execution_count": 481,
   "metadata": {},
   "outputs": [
    {
     "data": {
      "text/plain": [
       "array([[ 0,  0,  0, ...,  3, 21,  1],\n",
       "       [ 0,  0,  0, ...,  2, 19, 14],\n",
       "       [ 0,  0,  0, ..., 18,  1,  4],\n",
       "       ...,\n",
       "       [ 0,  0,  0, ...,  5,  2, 10],\n",
       "       [ 0,  0,  0, ...,  7,  6,  9],\n",
       "       [ 0,  0,  0, ..., 18, 11, 12]])"
      ]
     },
     "execution_count": 481,
     "metadata": {},
     "output_type": "execute_result"
    }
   ],
   "source": [
    "word_arr"
   ]
  },
  {
   "cell_type": "code",
   "execution_count": 482,
   "metadata": {},
   "outputs": [
    {
     "data": {
      "text/html": [
       "<div>\n",
       "<style scoped>\n",
       "    .dataframe tbody tr th:only-of-type {\n",
       "        vertical-align: middle;\n",
       "    }\n",
       "\n",
       "    .dataframe tbody tr th {\n",
       "        vertical-align: top;\n",
       "    }\n",
       "\n",
       "    .dataframe thead th {\n",
       "        text-align: right;\n",
       "    }\n",
       "</style>\n",
       "<table border=\"1\" class=\"dataframe\">\n",
       "  <thead>\n",
       "    <tr style=\"text-align: right;\">\n",
       "      <th></th>\n",
       "      <th>word</th>\n",
       "      <th>origin</th>\n",
       "      <th>full_name</th>\n",
       "      <th>Group</th>\n",
       "      <th>word_len</th>\n",
       "      <th>group_int</th>\n",
       "      <th>letter_li</th>\n",
       "      <th>letter_ints</th>\n",
       "    </tr>\n",
       "  </thead>\n",
       "  <tbody>\n",
       "    <tr>\n",
       "      <th>0</th>\n",
       "      <td>abs brake</td>\n",
       "      <td>deu</td>\n",
       "      <td>German</td>\n",
       "      <td>Germanic</td>\n",
       "      <td>9</td>\n",
       "      <td>0</td>\n",
       "      <td>[a, b, s,  , b, r, a, k, e]</td>\n",
       "      <td>[0, 0, 0, 0, 0, 0, 0, 0, 0, 0, 0, 0, 0, 0, 0, ...</td>\n",
       "    </tr>\n",
       "    <tr>\n",
       "      <th>1</th>\n",
       "      <td>aivd</td>\n",
       "      <td>nld</td>\n",
       "      <td>Dutch;Flemish</td>\n",
       "      <td>Germanic</td>\n",
       "      <td>4</td>\n",
       "      <td>0</td>\n",
       "      <td>[a, i, v, d]</td>\n",
       "      <td>[0, 0, 0, 0, 0, 0, 0, 0, 0, 0, 0, 0, 0, 0, 0, ...</td>\n",
       "    </tr>\n",
       "    <tr>\n",
       "      <th>2</th>\n",
       "      <td>aachen</td>\n",
       "      <td>deu</td>\n",
       "      <td>German</td>\n",
       "      <td>Germanic</td>\n",
       "      <td>6</td>\n",
       "      <td>0</td>\n",
       "      <td>[a, a, c, h, e, n]</td>\n",
       "      <td>[0, 0, 0, 0, 0, 0, 0, 0, 0, 0, 0, 0, 0, 0, 0, ...</td>\n",
       "    </tr>\n",
       "    <tr>\n",
       "      <th>3</th>\n",
       "      <td>aarhus</td>\n",
       "      <td>dan</td>\n",
       "      <td>Danish</td>\n",
       "      <td>Germanic</td>\n",
       "      <td>6</td>\n",
       "      <td>0</td>\n",
       "      <td>[a, a, r, h, u, s]</td>\n",
       "      <td>[0, 0, 0, 0, 0, 0, 0, 0, 0, 0, 0, 0, 0, 0, 0, ...</td>\n",
       "    </tr>\n",
       "    <tr>\n",
       "      <th>4</th>\n",
       "      <td>ababil</td>\n",
       "      <td>ara</td>\n",
       "      <td>Arabic</td>\n",
       "      <td>Arabic</td>\n",
       "      <td>6</td>\n",
       "      <td>1</td>\n",
       "      <td>[a, b, a, b, i, l]</td>\n",
       "      <td>[0, 0, 0, 0, 0, 0, 0, 0, 0, 0, 0, 0, 0, 0, 0, ...</td>\n",
       "    </tr>\n",
       "  </tbody>\n",
       "</table>\n",
       "</div>"
      ],
      "text/plain": [
       "        word origin      full_name     Group  word_len  group_int  \\\n",
       "0  abs brake    deu         German  Germanic         9          0   \n",
       "1       aivd    nld  Dutch;Flemish  Germanic         4          0   \n",
       "2     aachen    deu         German  Germanic         6          0   \n",
       "3     aarhus    dan         Danish  Germanic         6          0   \n",
       "4     ababil    ara         Arabic    Arabic         6          1   \n",
       "\n",
       "                     letter_li  \\\n",
       "0  [a, b, s,  , b, r, a, k, e]   \n",
       "1                 [a, i, v, d]   \n",
       "2           [a, a, c, h, e, n]   \n",
       "3           [a, a, r, h, u, s]   \n",
       "4           [a, b, a, b, i, l]   \n",
       "\n",
       "                                         letter_ints  \n",
       "0  [0, 0, 0, 0, 0, 0, 0, 0, 0, 0, 0, 0, 0, 0, 0, ...  \n",
       "1  [0, 0, 0, 0, 0, 0, 0, 0, 0, 0, 0, 0, 0, 0, 0, ...  \n",
       "2  [0, 0, 0, 0, 0, 0, 0, 0, 0, 0, 0, 0, 0, 0, 0, ...  \n",
       "3  [0, 0, 0, 0, 0, 0, 0, 0, 0, 0, 0, 0, 0, 0, 0, ...  \n",
       "4  [0, 0, 0, 0, 0, 0, 0, 0, 0, 0, 0, 0, 0, 0, 0, ...  "
      ]
     },
     "execution_count": 482,
     "metadata": {},
     "output_type": "execute_result"
    }
   ],
   "source": [
    "lan_df.head()"
   ]
  },
  {
   "cell_type": "code",
   "execution_count": 483,
   "metadata": {},
   "outputs": [],
   "source": [
    "test_word = ''"
   ]
  },
  {
   "cell_type": "code",
   "execution_count": 484,
   "metadata": {},
   "outputs": [],
   "source": [
    "def get_word_prediction(test_word):\n",
    "    temp = pad_list(letter_to_number(list(test_word), map_dict))\n",
    "    temp = model.predict(np.array([temp]))\n",
    "    temp_df = pd.DataFrame(data={'group':[elem for elem in group_dict.keys()], 'probability' : temp[0] * 100})\n",
    "    return temp_df"
   ]
  },
  {
   "cell_type": "code",
   "execution_count": 556,
   "metadata": {},
   "outputs": [
    {
     "data": {
      "text/html": [
       "<div>\n",
       "<style scoped>\n",
       "    .dataframe tbody tr th:only-of-type {\n",
       "        vertical-align: middle;\n",
       "    }\n",
       "\n",
       "    .dataframe tbody tr th {\n",
       "        vertical-align: top;\n",
       "    }\n",
       "\n",
       "    .dataframe thead th {\n",
       "        text-align: right;\n",
       "    }\n",
       "</style>\n",
       "<table border=\"1\" class=\"dataframe\">\n",
       "  <thead>\n",
       "    <tr style=\"text-align: right;\">\n",
       "      <th></th>\n",
       "      <th>group</th>\n",
       "      <th>probability</th>\n",
       "    </tr>\n",
       "  </thead>\n",
       "  <tbody>\n",
       "    <tr>\n",
       "      <th>0</th>\n",
       "      <td>Germanic</td>\n",
       "      <td>18.124720</td>\n",
       "    </tr>\n",
       "    <tr>\n",
       "      <th>1</th>\n",
       "      <td>Arabic</td>\n",
       "      <td>15.594498</td>\n",
       "    </tr>\n",
       "    <tr>\n",
       "      <th>2</th>\n",
       "      <td>Latin</td>\n",
       "      <td>11.296209</td>\n",
       "    </tr>\n",
       "    <tr>\n",
       "      <th>3</th>\n",
       "      <td>Japanese</td>\n",
       "      <td>54.984581</td>\n",
       "    </tr>\n",
       "  </tbody>\n",
       "</table>\n",
       "</div>"
      ],
      "text/plain": [
       "      group  probability\n",
       "0  Germanic    18.124720\n",
       "1    Arabic    15.594498\n",
       "2     Latin    11.296209\n",
       "3  Japanese    54.984581"
      ]
     },
     "execution_count": 556,
     "metadata": {},
     "output_type": "execute_result"
    }
   ],
   "source": [
    "get_word_prediction('fakaworada')"
   ]
  },
  {
   "cell_type": "code",
   "execution_count": 524,
   "metadata": {},
   "outputs": [
    {
     "data": {
      "text/html": [
       "<div>\n",
       "<style scoped>\n",
       "    .dataframe tbody tr th:only-of-type {\n",
       "        vertical-align: middle;\n",
       "    }\n",
       "\n",
       "    .dataframe tbody tr th {\n",
       "        vertical-align: top;\n",
       "    }\n",
       "\n",
       "    .dataframe thead th {\n",
       "        text-align: right;\n",
       "    }\n",
       "</style>\n",
       "<table border=\"1\" class=\"dataframe\">\n",
       "  <thead>\n",
       "    <tr style=\"text-align: right;\">\n",
       "      <th></th>\n",
       "      <th>word</th>\n",
       "      <th>origin</th>\n",
       "      <th>full_name</th>\n",
       "      <th>Group</th>\n",
       "      <th>word_len</th>\n",
       "      <th>group_int</th>\n",
       "      <th>letter_li</th>\n",
       "      <th>letter_ints</th>\n",
       "    </tr>\n",
       "  </thead>\n",
       "  <tbody>\n",
       "    <tr>\n",
       "      <th>47</th>\n",
       "      <td>al jazeera</td>\n",
       "      <td>ara</td>\n",
       "      <td>Arabic</td>\n",
       "      <td>Arabic</td>\n",
       "      <td>10</td>\n",
       "      <td>1</td>\n",
       "      <td>[a, l,  , j, a, z, e, e, r, a]</td>\n",
       "      <td>[0, 0, 0, 0, 0, 0, 0, 0, 0, 0, 0, 0, 0, 0, 0, ...</td>\n",
       "    </tr>\n",
       "    <tr>\n",
       "      <th>48</th>\n",
       "      <td>aladdin</td>\n",
       "      <td>ara</td>\n",
       "      <td>Arabic</td>\n",
       "      <td>Arabic</td>\n",
       "      <td>7</td>\n",
       "      <td>1</td>\n",
       "      <td>[a, l, a, d, d, i, n]</td>\n",
       "      <td>[0, 0, 0, 0, 0, 0, 0, 0, 0, 0, 0, 0, 0, 0, 0, ...</td>\n",
       "    </tr>\n",
       "    <tr>\n",
       "      <th>49</th>\n",
       "      <td>alamo</td>\n",
       "      <td>spa</td>\n",
       "      <td>Spanish; Castilian</td>\n",
       "      <td>Latin</td>\n",
       "      <td>5</td>\n",
       "      <td>2</td>\n",
       "      <td>[a, l, a, m, o]</td>\n",
       "      <td>[0, 0, 0, 0, 0, 0, 0, 0, 0, 0, 0, 0, 0, 0, 0, ...</td>\n",
       "    </tr>\n",
       "    <tr>\n",
       "      <th>50</th>\n",
       "      <td>alban</td>\n",
       "      <td>lat</td>\n",
       "      <td>Latin</td>\n",
       "      <td>Latin</td>\n",
       "      <td>5</td>\n",
       "      <td>2</td>\n",
       "      <td>[a, l, b, a, n]</td>\n",
       "      <td>[0, 0, 0, 0, 0, 0, 0, 0, 0, 0, 0, 0, 0, 0, 0, ...</td>\n",
       "    </tr>\n",
       "    <tr>\n",
       "      <th>51</th>\n",
       "      <td>albina</td>\n",
       "      <td>lat</td>\n",
       "      <td>Latin</td>\n",
       "      <td>Latin</td>\n",
       "      <td>6</td>\n",
       "      <td>2</td>\n",
       "      <td>[a, l, b, i, n, a]</td>\n",
       "      <td>[0, 0, 0, 0, 0, 0, 0, 0, 0, 0, 0, 0, 0, 0, 0, ...</td>\n",
       "    </tr>\n",
       "    <tr>\n",
       "      <th>...</th>\n",
       "      <td>...</td>\n",
       "      <td>...</td>\n",
       "      <td>...</td>\n",
       "      <td>...</td>\n",
       "      <td>...</td>\n",
       "      <td>...</td>\n",
       "      <td>...</td>\n",
       "      <td>...</td>\n",
       "    </tr>\n",
       "    <tr>\n",
       "      <th>2002</th>\n",
       "      <td>alumna</td>\n",
       "      <td>lat</td>\n",
       "      <td>Latin</td>\n",
       "      <td>Latin</td>\n",
       "      <td>6</td>\n",
       "      <td>2</td>\n",
       "      <td>[a, l, u, m, n, a]</td>\n",
       "      <td>[0, 0, 0, 0, 0, 0, 0, 0, 0, 0, 0, 0, 0, 0, 0, ...</td>\n",
       "    </tr>\n",
       "    <tr>\n",
       "      <th>2003</th>\n",
       "      <td>alumni</td>\n",
       "      <td>lat</td>\n",
       "      <td>Latin</td>\n",
       "      <td>Latin</td>\n",
       "      <td>6</td>\n",
       "      <td>2</td>\n",
       "      <td>[a, l, u, m, n, i]</td>\n",
       "      <td>[0, 0, 0, 0, 0, 0, 0, 0, 0, 0, 0, 0, 0, 0, 0, ...</td>\n",
       "    </tr>\n",
       "    <tr>\n",
       "      <th>2004</th>\n",
       "      <td>alutaceous</td>\n",
       "      <td>lat</td>\n",
       "      <td>Latin</td>\n",
       "      <td>Latin</td>\n",
       "      <td>10</td>\n",
       "      <td>2</td>\n",
       "      <td>[a, l, u, t, a, c, e, o, u, s]</td>\n",
       "      <td>[0, 0, 0, 0, 0, 0, 0, 0, 0, 0, 0, 0, 0, 0, 0, ...</td>\n",
       "    </tr>\n",
       "    <tr>\n",
       "      <th>2005</th>\n",
       "      <td>alveolus</td>\n",
       "      <td>lat</td>\n",
       "      <td>Latin</td>\n",
       "      <td>Latin</td>\n",
       "      <td>8</td>\n",
       "      <td>2</td>\n",
       "      <td>[a, l, v, e, o, l, u, s]</td>\n",
       "      <td>[0, 0, 0, 0, 0, 0, 0, 0, 0, 0, 0, 0, 0, 0, 0, ...</td>\n",
       "    </tr>\n",
       "    <tr>\n",
       "      <th>2006</th>\n",
       "      <td>alymphocytosis</td>\n",
       "      <td>lat</td>\n",
       "      <td>Latin</td>\n",
       "      <td>Latin</td>\n",
       "      <td>14</td>\n",
       "      <td>2</td>\n",
       "      <td>[a, l, y, m, p, h, o, c, y, t, o, s, i, s]</td>\n",
       "      <td>[0, 0, 0, 0, 0, 0, 0, 0, 0, 0, 0, 3, 9, 15, 12...</td>\n",
       "    </tr>\n",
       "  </tbody>\n",
       "</table>\n",
       "<p>170 rows × 8 columns</p>\n",
       "</div>"
      ],
      "text/plain": [
       "                word origin           full_name   Group  word_len  group_int  \\\n",
       "47        al jazeera    ara              Arabic  Arabic        10          1   \n",
       "48           aladdin    ara              Arabic  Arabic         7          1   \n",
       "49             alamo    spa  Spanish; Castilian   Latin         5          2   \n",
       "50             alban    lat               Latin   Latin         5          2   \n",
       "51            albina    lat               Latin   Latin         6          2   \n",
       "...              ...    ...                 ...     ...       ...        ...   \n",
       "2002          alumna    lat               Latin   Latin         6          2   \n",
       "2003          alumni    lat               Latin   Latin         6          2   \n",
       "2004      alutaceous    lat               Latin   Latin        10          2   \n",
       "2005        alveolus    lat               Latin   Latin         8          2   \n",
       "2006  alymphocytosis    lat               Latin   Latin        14          2   \n",
       "\n",
       "                                       letter_li  \\\n",
       "47                [a, l,  , j, a, z, e, e, r, a]   \n",
       "48                         [a, l, a, d, d, i, n]   \n",
       "49                               [a, l, a, m, o]   \n",
       "50                               [a, l, b, a, n]   \n",
       "51                            [a, l, b, i, n, a]   \n",
       "...                                          ...   \n",
       "2002                          [a, l, u, m, n, a]   \n",
       "2003                          [a, l, u, m, n, i]   \n",
       "2004              [a, l, u, t, a, c, e, o, u, s]   \n",
       "2005                    [a, l, v, e, o, l, u, s]   \n",
       "2006  [a, l, y, m, p, h, o, c, y, t, o, s, i, s]   \n",
       "\n",
       "                                            letter_ints  \n",
       "47    [0, 0, 0, 0, 0, 0, 0, 0, 0, 0, 0, 0, 0, 0, 0, ...  \n",
       "48    [0, 0, 0, 0, 0, 0, 0, 0, 0, 0, 0, 0, 0, 0, 0, ...  \n",
       "49    [0, 0, 0, 0, 0, 0, 0, 0, 0, 0, 0, 0, 0, 0, 0, ...  \n",
       "50    [0, 0, 0, 0, 0, 0, 0, 0, 0, 0, 0, 0, 0, 0, 0, ...  \n",
       "51    [0, 0, 0, 0, 0, 0, 0, 0, 0, 0, 0, 0, 0, 0, 0, ...  \n",
       "...                                                 ...  \n",
       "2002  [0, 0, 0, 0, 0, 0, 0, 0, 0, 0, 0, 0, 0, 0, 0, ...  \n",
       "2003  [0, 0, 0, 0, 0, 0, 0, 0, 0, 0, 0, 0, 0, 0, 0, ...  \n",
       "2004  [0, 0, 0, 0, 0, 0, 0, 0, 0, 0, 0, 0, 0, 0, 0, ...  \n",
       "2005  [0, 0, 0, 0, 0, 0, 0, 0, 0, 0, 0, 0, 0, 0, 0, ...  \n",
       "2006  [0, 0, 0, 0, 0, 0, 0, 0, 0, 0, 0, 3, 9, 15, 12...  \n",
       "\n",
       "[170 rows x 8 columns]"
      ]
     },
     "execution_count": 524,
     "metadata": {},
     "output_type": "execute_result"
    }
   ],
   "source": [
    "lan_df[lan_df['word'].str.startswith('al')]"
   ]
  },
  {
   "cell_type": "code",
   "execution_count": null,
   "metadata": {},
   "outputs": [],
   "source": []
  },
  {
   "cell_type": "code",
   "execution_count": null,
   "metadata": {},
   "outputs": [],
   "source": []
  },
  {
   "cell_type": "code",
   "execution_count": null,
   "metadata": {},
   "outputs": [],
   "source": []
  }
 ],
 "metadata": {
  "kernelspec": {
   "display_name": "Python 3",
   "language": "python",
   "name": "python3"
  },
  "language_info": {
   "codemirror_mode": {
    "name": "ipython",
    "version": 3
   },
   "file_extension": ".py",
   "mimetype": "text/x-python",
   "name": "python",
   "nbconvert_exporter": "python",
   "pygments_lexer": "ipython3",
   "version": "3.7.6"
  }
 },
 "nbformat": 4,
 "nbformat_minor": 4
}
