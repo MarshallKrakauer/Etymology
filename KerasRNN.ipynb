{
 "cells": [
  {
   "cell_type": "markdown",
   "metadata": {},
   "source": [
    "# Setup"
   ]
  },
  {
   "cell_type": "code",
   "execution_count": 2,
   "metadata": {},
   "outputs": [],
   "source": [
    "# !pip install -U -q segmentation-models\n",
    "# !pip install -q tensorflow==2.1\n",
    "# !pip install -q keras==2.3.1\n",
    "# !pip install -q tensorflow-estimator==2.1.\n",
    "\n",
    "# ## Imports libs\n",
    "# import os\n",
    "# os.environ['CUDA_VISIBLE_DEVICES'] = '0'\n",
    "# os.environ[\"SM_FRAMEWORK\"] = \"tf.keras\"\n",
    "\n",
    "# from tensorflow import keras\n",
    "# import segmentation_models as sm"
   ]
  },
  {
   "cell_type": "code",
   "execution_count": 3,
   "metadata": {},
   "outputs": [
    {
     "name": "stderr",
     "output_type": "stream",
     "text": [
      "Using TensorFlow backend.\n"
     ]
    }
   ],
   "source": [
    "import numpy as np\n",
    "import pandas as pd\n",
    "import tensorflow as tf\n",
    "from tensorflow import keras\n",
    "from tensorflow.keras import layers\n",
    "from collections import Counter\n",
    "from keras.preprocessing import sequence\n",
    "import random\n",
    "import matplotlib.pyplot as plt\n",
    "import copy"
   ]
  },
  {
   "cell_type": "code",
   "execution_count": 91,
   "metadata": {},
   "outputs": [],
   "source": [
    "def create_letter_mapping(all_words):\n",
    "    letter_li = []\n",
    "    \n",
    "    # Get unique letters in the data\n",
    "    for word in all_words:\n",
    "        for letter in word:\n",
    "            letter_li.append(letter)\n",
    "    \n",
    "    # order letters by most common\n",
    "    most_common = Counter(letter_li).most_common()\n",
    "    letter_li = []\n",
    "    for elem in most_common:\n",
    "        letter_li.append(elem[0])\n",
    "    \n",
    "    # Map each letter to an integer\n",
    "    letter_dict = {}\n",
    "    for idx, letter in enumerate(letter_li):\n",
    "        if letter_dict != '':\n",
    "            letter_dict[letter] = idx + 1\n",
    "        else:\n",
    "            letter_dict[letter] = 0\n",
    "    \n",
    "    return letter_dict\n",
    "\n",
    "def letter_to_number(word_li, letter_dict):\n",
    "    return_li = []\n",
    "    for letter in word_li:\n",
    "        return_li.append(letter_dict[letter])\n",
    "        \n",
    "    return return_li\n",
    "\n",
    "def pad_list(letter_li, pad_num=25):\n",
    "    curr_len = len(letter_li)\n",
    "    new_len = 25 - curr_len\n",
    "    zeroes = [0] * new_len\n",
    "    zeroes.extend(letter_li)\n",
    "    return zeroes\n",
    "\n",
    "def convert_prediction(pred_list):\n",
    "    max_value = -100\n",
    "    max_idx = -1\n",
    "    for idx,value in enumerate(pred_list):\n",
    "        if value > max_value:\n",
    "            max_value = value\n",
    "            max_idx = idx\n",
    "    \n",
    "    return max_idx"
   ]
  },
  {
   "cell_type": "markdown",
   "metadata": {},
   "source": [
    "# Fixing Language Groups"
   ]
  },
  {
   "cell_type": "code",
   "execution_count": 128,
   "metadata": {},
   "outputs": [],
   "source": [
    "lan_df = pd.read_csv('language_data.csv')"
   ]
  },
  {
   "cell_type": "code",
   "execution_count": 129,
   "metadata": {},
   "outputs": [],
   "source": [
    "lan_df.fillna('Other', inplace=True)"
   ]
  },
  {
   "cell_type": "code",
   "execution_count": 130,
   "metadata": {},
   "outputs": [],
   "source": [
    "lan_df.loc[lan_df['full_name'].str.contains('English'), 'Group'] = 'Germanic'\n",
    "lan_df.loc[lan_df['full_name'].str.contains('Dutch'), 'Group'] = 'Germanic'\n",
    "lan_df.loc[lan_df['full_name'].str.contains('Norse'), 'Group'] = 'Germanic'\n",
    "lan_df.loc[lan_df['full_name'].str.contains('Germ'), 'Group'] = 'Germanic'\n",
    "\n",
    "lan_df.loc[lan_df['full_name'].str.contains('French'), 'Group'] = 'Latin'\n",
    "lan_df.loc[lan_df['full_name'].str.contains('Greek'), 'Group'] = 'Greek'\n",
    "lan_df.loc[lan_df['full_name'].str.contains('Hebrew'), 'Group'] = 'Other'\n",
    "\n",
    "lan_df.loc[lan_df['full_name'] == 'Sanskrit', 'Group'] = 'Indo-Aryan'\n",
    "lan_df.loc[lan_df['full_name'] == 'Hindi', 'Group'] = 'Indo-Aryan'\n",
    "\n",
    "lan_df = lan_df[lan_df['Group'] != 'Arabic']\n",
    "lan_df = lan_df[lan_df['Group'] != 'Turkish']\n",
    "#lan_df = lan_df[lan_df['Group'] != 'Indo-Aryan']\n",
    "\n",
    "\n",
    "lan_df = lan_df[lan_df['Group'] != 'Other']"
   ]
  },
  {
   "cell_type": "markdown",
   "metadata": {},
   "source": [
    "# Date Cleanup"
   ]
  },
  {
   "cell_type": "code",
   "execution_count": 131,
   "metadata": {},
   "outputs": [],
   "source": [
    "lan_df.reset_index(inplace=True,drop=True)"
   ]
  },
  {
   "cell_type": "code",
   "execution_count": 134,
   "metadata": {},
   "outputs": [],
   "source": [
    "group_dict = {'Germanic': 0, 'Greek': 1, 'Latin': 2, 'Japanese': 3,'Indo-Aryan': 4,}"
   ]
  },
  {
   "cell_type": "code",
   "execution_count": 135,
   "metadata": {},
   "outputs": [],
   "source": [
    "lan_df['group_int'] = lan_df['Group'].apply(lambda x: group_dict[x])"
   ]
  },
  {
   "cell_type": "code",
   "execution_count": 136,
   "metadata": {},
   "outputs": [],
   "source": [
    "lan_df['letter_li'] = lan_df['word'].apply(lambda x: list(x))"
   ]
  },
  {
   "cell_type": "code",
   "execution_count": 137,
   "metadata": {},
   "outputs": [],
   "source": [
    "map_dict = create_letter_mapping(lan_df['word'].values)"
   ]
  },
  {
   "cell_type": "code",
   "execution_count": 138,
   "metadata": {},
   "outputs": [],
   "source": [
    "lan_df['letter_ints'] = lan_df['letter_li'].apply(lambda x: pad_list(letter_to_number(x, map_dict)))"
   ]
  },
  {
   "cell_type": "code",
   "execution_count": 139,
   "metadata": {},
   "outputs": [],
   "source": [
    "SHAPE = lan_df.shape[0]"
   ]
  },
  {
   "cell_type": "code",
   "execution_count": 140,
   "metadata": {},
   "outputs": [],
   "source": [
    "word_arr = np.empty(SHAPE, dtype=list)\n",
    "origin_arr = np.empty(SHAPE, dtype=int)"
   ]
  },
  {
   "cell_type": "code",
   "execution_count": 141,
   "metadata": {},
   "outputs": [],
   "source": [
    "for i in range(SHAPE):\n",
    "    word_arr[i] = lan_df.loc[i, 'letter_ints']\n",
    "    origin_arr[i] = lan_df.loc[i, 'group_int']"
   ]
  },
  {
   "cell_type": "code",
   "execution_count": 142,
   "metadata": {},
   "outputs": [],
   "source": [
    "# pad array so that all words have length of 25\n",
    "word_arr = sequence.pad_sequences(word_arr, 25)"
   ]
  },
  {
   "cell_type": "code",
   "execution_count": 143,
   "metadata": {},
   "outputs": [],
   "source": [
    "# Develop random index for train test split\n",
    "random.seed(0)\n",
    "rng = np.arange(SHAPE)\n",
    "random.shuffle(rng)"
   ]
  },
  {
   "cell_type": "code",
   "execution_count": 144,
   "metadata": {},
   "outputs": [],
   "source": [
    "train_len = int(SHAPE * 0.7)\n",
    "train_idx = rng[:train_len]\n",
    "test_idx = rng[train_len:]"
   ]
  },
  {
   "cell_type": "code",
   "execution_count": 145,
   "metadata": {},
   "outputs": [],
   "source": [
    "X_train, y_train = word_arr[train_idx], origin_arr[train_idx]\n",
    "X_test, y_test = word_arr[test_idx], origin_arr[test_idx]"
   ]
  },
  {
   "cell_type": "markdown",
   "metadata": {},
   "source": [
    "# Models"
   ]
  },
  {
   "cell_type": "code",
   "execution_count": 146,
   "metadata": {},
   "outputs": [],
   "source": [
    "EMBEDDING_LAYERS = 64\n",
    "GROUPS = len(group_dict)\n",
    "\n",
    "embedding_model = tf.keras.Sequential([\n",
    "    tf.keras.layers.Embedding(len(map_dict) + 1, EMBEDDING_LAYERS),\n",
    "    tf.keras.layers.LSTM((EMBEDDING_LAYERS + GROUPS) // 2, return_sequences=False),\n",
    "#     tf.keras.layers.LSTM(50, return_sequences=True),\n",
    "#     tf.keras.layers.LSTM(50, return_sequences=False),\n",
    "    tf.keras.layers.Dense(GROUPS, activation=\"softmax\")\n",
    "])"
   ]
  },
  {
   "cell_type": "code",
   "execution_count": 147,
   "metadata": {},
   "outputs": [
    {
     "name": "stdout",
     "output_type": "stream",
     "text": [
      "Train on 31484 samples, validate on 7872 samples\n",
      "Epoch 1/10\n",
      "31484/31484 [==============================] - 12s 392us/sample - loss: 0.7863 - acc: 0.6651 - val_loss: 0.7386 - val_acc: 0.6744\n",
      "Epoch 2/10\n",
      "31484/31484 [==============================] - 10s 327us/sample - loss: 0.6992 - acc: 0.6964 - val_loss: 0.6959 - val_acc: 0.6991\n",
      "Epoch 3/10\n",
      "31484/31484 [==============================] - 11s 339us/sample - loss: 0.6753 - acc: 0.7088 - val_loss: 0.6753 - val_acc: 0.7078\n",
      "Epoch 4/10\n",
      "31484/31484 [==============================] - 10s 327us/sample - loss: 0.6565 - acc: 0.7166 - val_loss: 0.6721 - val_acc: 0.7092\n",
      "Epoch 5/10\n",
      "31484/31484 [==============================] - 10s 331us/sample - loss: 0.6390 - acc: 0.7273 - val_loss: 0.6463 - val_acc: 0.7271\n",
      "Epoch 6/10\n",
      "31484/31484 [==============================] - 11s 360us/sample - loss: 0.6216 - acc: 0.7365 - val_loss: 0.6438 - val_acc: 0.7309\n",
      "Epoch 7/10\n",
      "31484/31484 [==============================] - 12s 382us/sample - loss: 0.6048 - acc: 0.7445 - val_loss: 0.6343 - val_acc: 0.7370\n",
      "Epoch 8/10\n",
      "31484/31484 [==============================] - 12s 384us/sample - loss: 0.5895 - acc: 0.7524 - val_loss: 0.6121 - val_acc: 0.7467\n",
      "Epoch 9/10\n",
      "31484/31484 [==============================] - 12s 376us/sample - loss: 0.5765 - acc: 0.7584 - val_loss: 0.6032 - val_acc: 0.7449\n",
      "Epoch 10/10\n",
      "31484/31484 [==============================] - 12s 389us/sample - loss: 0.5645 - acc: 0.7656 - val_loss: 0.5961 - val_acc: 0.7546\n"
     ]
    }
   ],
   "source": [
    "embedding_model.compile(loss=\"sparse_categorical_crossentropy\",optimizer=\"rmsprop\",metrics=['acc'])\n",
    "history = embedding_model.fit(X_train, y_train, epochs=10, validation_split=0.2)"
   ]
  },
  {
   "cell_type": "code",
   "execution_count": null,
   "metadata": {},
   "outputs": [],
   "source": []
  },
  {
   "cell_type": "markdown",
   "metadata": {},
   "source": [
    "# Predicting Individual Words"
   ]
  },
  {
   "cell_type": "code",
   "execution_count": 35,
   "metadata": {},
   "outputs": [],
   "source": [
    "def get_word_prediction(test_word, model):\n",
    "    temp = pad_list(letter_to_number(list(test_word), map_dict))\n",
    "    temp = model.predict(np.array([temp]))\n",
    "    temp_df = pd.DataFrame(data={'group':[elem for elem in group_dict.keys()], 'probability' : temp[0] * 100})\n",
    "    return temp_df"
   ]
  },
  {
   "cell_type": "code",
   "execution_count": 39,
   "metadata": {},
   "outputs": [
    {
     "data": {
      "text/html": [
       "<div>\n",
       "<style scoped>\n",
       "    .dataframe tbody tr th:only-of-type {\n",
       "        vertical-align: middle;\n",
       "    }\n",
       "\n",
       "    .dataframe tbody tr th {\n",
       "        vertical-align: top;\n",
       "    }\n",
       "\n",
       "    .dataframe thead th {\n",
       "        text-align: right;\n",
       "    }\n",
       "</style>\n",
       "<table border=\"1\" class=\"dataframe\">\n",
       "  <thead>\n",
       "    <tr style=\"text-align: right;\">\n",
       "      <th></th>\n",
       "      <th>group</th>\n",
       "      <th>probability</th>\n",
       "    </tr>\n",
       "  </thead>\n",
       "  <tbody>\n",
       "    <tr>\n",
       "      <th>0</th>\n",
       "      <td>Germanic</td>\n",
       "      <td>70.570282</td>\n",
       "    </tr>\n",
       "    <tr>\n",
       "      <th>1</th>\n",
       "      <td>Greek</td>\n",
       "      <td>0.838094</td>\n",
       "    </tr>\n",
       "    <tr>\n",
       "      <th>2</th>\n",
       "      <td>Latin</td>\n",
       "      <td>28.058973</td>\n",
       "    </tr>\n",
       "    <tr>\n",
       "      <th>3</th>\n",
       "      <td>Japanese</td>\n",
       "      <td>0.532655</td>\n",
       "    </tr>\n",
       "  </tbody>\n",
       "</table>\n",
       "</div>"
      ],
      "text/plain": [
       "      group  probability\n",
       "0  Germanic    70.570282\n",
       "1     Greek     0.838094\n",
       "2     Latin    28.058973\n",
       "3  Japanese     0.532655"
      ]
     },
     "execution_count": 39,
     "metadata": {},
     "output_type": "execute_result"
    }
   ],
   "source": [
    "get_word_prediction('sjdfklasfa', embedding_model)"
   ]
  },
  {
   "cell_type": "markdown",
   "metadata": {},
   "source": [
    "# Prediction Accuracy"
   ]
  },
  {
   "cell_type": "code",
   "execution_count": 37,
   "metadata": {},
   "outputs": [],
   "source": [
    "preds = embedding_model.predict(X_test)"
   ]
  },
  {
   "cell_type": "code",
   "execution_count": 98,
   "metadata": {},
   "outputs": [],
   "source": [
    "def create_language_df(preds):\n",
    "    result_list = []\n",
    "    germ_li = []\n",
    "    greek_li = []\n",
    "    latin_li = []\n",
    "    jp_li = []\n",
    "\n",
    "    for elem in preds:\n",
    "        result_list.append(convert_prediction(elem))\n",
    "        germ_li.append(elem[0])\n",
    "        greek_li.append(elem[1])\n",
    "        latin_li.append(elem[2])\n",
    "        jp_li.append(elem[3])\n",
    "        \n",
    "    result_df = pd.DataFrame(data={'y_actual': y_test, \n",
    "        'y_pred': result_list,\n",
    "        'prob_germanic' : germ_li,\n",
    "        'prob_greek': greek_li,\n",
    "        'prob_latin' : latin_li,\n",
    "        'prob_japanese' : jp_li})\n",
    "\n",
    "    result_df['correct'] =  1.0 * (result_df['y_actual'] == result_df['y_pred'])\n",
    "    \n",
    "    result_df['is_germanic'] = 1 * (result_df['y_actual'] == 0)\n",
    "    result_df['is_greek'] = 1 * (result_df['y_actual'] == 1)\n",
    "    result_df['is_latin'] = 1 * (result_df['y_actual'] == 2)\n",
    "    result_df['is_japanese'] = 1 * (result_df['y_actual'] == 3)\n",
    "    \n",
    "    return result_df"
   ]
  },
  {
   "cell_type": "code",
   "execution_count": 99,
   "metadata": {},
   "outputs": [],
   "source": [
    "result_df = create_language_df(preds)"
   ]
  },
  {
   "cell_type": "code",
   "execution_count": 120,
   "metadata": {},
   "outputs": [],
   "source": [
    "class LiftGraphMaker:\n",
    "\n",
    "    def __init__(self, df):\n",
    "        self.df = df\n",
    "    \n",
    "    def plot_calibration(self, language):\n",
    "        prob_col = 'prob_' + language\n",
    "        true_col = 'is_' + language\n",
    "        \n",
    "        result_df = self.df\n",
    "        \n",
    "        avg_li = []\n",
    "        pred_li = []\n",
    "        for x in range(0,100,10):\n",
    "            num1, num2 = x, x + 10\n",
    "            avg_li.append((num1+num2)/2)\n",
    "            pred_li.append(result_df.loc[(result_df[prob_col] >= num1 / 100) & \n",
    "                       (result_df[prob_col] <= num2 / 100), true_col].mean() * 100)\n",
    "            \n",
    "        plt.rcParams[\"figure.figsize\"] = (9,7)\n",
    "        plt.plot([0,100], [0,100], label='Perfect', linestyle='--', color = 'grey')\n",
    "        plt.plot(avg_li, pred_li, label='Model', color = 'red')\n",
    "        plt.legend()\n",
    "        \n",
    "    def plot_lift(self, language, ratio=False):\n",
    "        \n",
    "        prob_col = 'prob_' + language\n",
    "        true_col = 'is_' + language\n",
    "        \n",
    "        result_df = self.df\n",
    "        result_df.sort_values(prob_col, ascending=False, inplace=True)\n",
    "        lift_df = copy.deepcopy(result_df)\n",
    "\n",
    "        lift_df.reset_index(inplace=True, drop=True)\n",
    "\n",
    "        total_hits = lift_df[true_col].sum()\n",
    "        num_rows = lift_df.shape[0]\n",
    "\n",
    "        lift_li = []\n",
    "        for i in range(1,100):\n",
    "            row_max = num_rows * (i/100)\n",
    "            num_hits = result_df.loc[lift_df.index < int(row_max),true_col].sum()\n",
    "            lift_li.append(num_hits/total_hits * 100)\n",
    "\n",
    "        if not ratio:\n",
    "            plt.plot(np.arange(1,100), lift_li, color='red',label= 'Model')\n",
    "            plt.plot([0,100], [1,100], color='grey', linestyle='--', label='Naive')\n",
    "            plt.legend()\n",
    "        \n",
    "        else:\n",
    "            lift_ratio_li = [lift_li[x-1] / x for x in np.arange(1,100)]\n",
    "            plt.plot(np.arange(1,100), [lift_li[x-1] / x for x in np.arange(1,100)], color='red')"
   ]
  },
  {
   "cell_type": "code",
   "execution_count": 121,
   "metadata": {},
   "outputs": [],
   "source": [
    "graph_maker = LiftGraphMaker(result_df)"
   ]
  },
  {
   "cell_type": "code",
   "execution_count": 122,
   "metadata": {},
   "outputs": [
    {
     "data": {
      "image/png": "[encoded data removed]",
      "text/plain": [
       "<Figure size 648x504 with 1 Axes>"
      ]
     },
     "metadata": {
      "needs_background": "light"
     },
     "output_type": "display_data"
    }
   ],
   "source": [
    "graph_maker.plot_calibration('japanese')"
   ]
  },
  {
   "cell_type": "code",
   "execution_count": 127,
   "metadata": {},
   "outputs": [
    {
     "data": {
      "image/png": "[encoded data removed]",
      "text/plain": [
       "<Figure size 648x504 with 1 Axes>"
      ]
     },
     "metadata": {
      "needs_background": "light"
     },
     "output_type": "display_data"
    }
   ],
   "source": [
    "graph_maker.plot_lift('japanese', ratio=True)"
   ]
  }
 ],
 "metadata": {
  "kernelspec": {
   "display_name": "Python 3",
   "language": "python",
   "name": "python3"
  },
  "language_info": {
   "codemirror_mode": {
    "name": "ipython",
    "version": 3
   },
   "file_extension": ".py",
   "mimetype": "text/x-python",
   "name": "python",
   "nbconvert_exporter": "python",
   "pygments_lexer": "ipython3",
   "version": "3.7.6"
  }
 },
 "nbformat": 4,
 "nbformat_minor": 4
}
