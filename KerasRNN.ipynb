{
 "cells": [
  {
   "cell_type": "code",
   "execution_count": 1,
   "metadata": {},
   "outputs": [],
   "source": [
    "# !pip install -U -q segmentation-models\n",
    "# !pip install -q tensorflow==2.1\n",
    "# !pip install -q keras==2.3.1\n",
    "# !pip install -q tensorflow-estimator==2.1.\n",
    "\n",
    "# ## Imports libs\n",
    "# import os\n",
    "# os.environ['CUDA_VISIBLE_DEVICES'] = '0'\n",
    "# os.environ[\"SM_FRAMEWORK\"] = \"tf.keras\"\n",
    "\n",
    "# from tensorflow import keras\n",
    "# import segmentation_models as sm"
   ]
  },
  {
   "cell_type": "code",
   "execution_count": 2,
   "metadata": {},
   "outputs": [
    {
     "name": "stderr",
     "output_type": "stream",
     "text": [
      "Using TensorFlow backend.\n"
     ]
    }
   ],
   "source": [
    "import numpy as np\n",
    "import pandas as pd\n",
    "import tensorflow as tf\n",
    "from tensorflow import keras\n",
    "from tensorflow.keras import layers\n",
    "from collections import Counter\n",
    "from keras.preprocessing import sequence\n",
    "import random"
   ]
  },
  {
   "cell_type": "code",
   "execution_count": 3,
   "metadata": {},
   "outputs": [],
   "source": [
    "def create_letter_mapping(all_words):\n",
    "    letter_li = []\n",
    "    \n",
    "    # Get unique letters in the data\n",
    "    for word in all_words:\n",
    "        for letter in word:\n",
    "            letter_li.append(letter)\n",
    "    \n",
    "    # order letters by most common\n",
    "    most_common = Counter(letter_li).most_common()\n",
    "    letter_li = []\n",
    "    for elem in most_common:\n",
    "        letter_li.append(elem[0])\n",
    "    \n",
    "    # Map each letter to an integer\n",
    "    letter_dict = {}\n",
    "    for idx, letter in enumerate(letter_li):\n",
    "        if letter_dict != '':\n",
    "            letter_dict[letter] = idx + 1\n",
    "        else:\n",
    "            letter_dict[letter] = 0\n",
    "    \n",
    "    return letter_dict\n",
    "\n",
    "def letter_to_number(word_li, letter_dict):\n",
    "    return_li = []\n",
    "    for letter in word_li:\n",
    "        return_li.append(letter_dict[letter])\n",
    "        \n",
    "    return return_li\n",
    "\n",
    "def pad_list(letter_li, pad_num=25):\n",
    "    curr_len = len(letter_li)\n",
    "    new_len = 25 - curr_len\n",
    "    zeroes = [0] * new_len\n",
    "    zeroes.extend(letter_li)\n",
    "    return zeroes\n",
    "\n"
   ]
  },
  {
   "cell_type": "code",
   "execution_count": 115,
   "metadata": {},
   "outputs": [],
   "source": [
    "lan_df = pd.read_csv('language_data.csv')"
   ]
  },
  {
   "cell_type": "code",
   "execution_count": 116,
   "metadata": {},
   "outputs": [],
   "source": [
    "test = pd.read_csv('language_data2.csv')"
   ]
  },
  {
   "cell_type": "code",
   "execution_count": 117,
   "metadata": {},
   "outputs": [],
   "source": [
    "test.fillna('Other', inplace=True)"
   ]
  },
  {
   "cell_type": "code",
   "execution_count": 118,
   "metadata": {},
   "outputs": [],
   "source": [
    "test.loc[test['full_name'].str.contains('English'), 'Group'] = 'Germanic'\n",
    "test.loc[test['full_name'].str.contains('Dutch'), 'Group'] = 'Germanic'\n",
    "test.loc[test['full_name'].str.contains('Norse'), 'Group'] = 'Germanic'\n",
    "test.loc[test['full_name'].str.contains('Germ'), 'Group'] = 'Germanic'"
   ]
  },
  {
   "cell_type": "code",
   "execution_count": 119,
   "metadata": {},
   "outputs": [],
   "source": [
    "test.loc[test['full_name'].str.contains('French'), 'Group'] = 'Latin'"
   ]
  },
  {
   "cell_type": "code",
   "execution_count": 120,
   "metadata": {},
   "outputs": [],
   "source": [
    "test.loc[test['full_name'].str.contains('Hebrew'), 'Group'] = 'Other'"
   ]
  },
  {
   "cell_type": "code",
   "execution_count": 121,
   "metadata": {},
   "outputs": [],
   "source": [
    "test.loc[test['full_name'].str.contains('Greek'), 'Group'] = 'Greek'"
   ]
  },
  {
   "cell_type": "code",
   "execution_count": 122,
   "metadata": {},
   "outputs": [],
   "source": [
    "# Counter(test.loc[test['Group'] == 'Other', 'full_name'].values).most_common()"
   ]
  },
  {
   "cell_type": "code",
   "execution_count": 123,
   "metadata": {},
   "outputs": [],
   "source": [
    "lan_df = test"
   ]
  },
  {
   "cell_type": "code",
   "execution_count": 124,
   "metadata": {},
   "outputs": [],
   "source": [
    "lan_df.loc[lan_df['full_name'] == 'Sanskrit', 'Group'] = 'Indo-Aryan'\n",
    "lan_df.loc[lan_df['full_name'] == 'Hindi', 'Group'] = 'Indo-Aryan'"
   ]
  },
  {
   "cell_type": "code",
   "execution_count": 125,
   "metadata": {},
   "outputs": [],
   "source": [
    "lan_df = lan_df[lan_df['Group'] != 'Arabic']\n",
    "lan_df = lan_df[lan_df['Group'] != 'Turkish']"
   ]
  },
  {
   "cell_type": "code",
   "execution_count": 126,
   "metadata": {},
   "outputs": [],
   "source": [
    "lan_df = lan_df[lan_df['Group'] != 'Other']"
   ]
  },
  {
   "cell_type": "code",
   "execution_count": 127,
   "metadata": {},
   "outputs": [],
   "source": [
    "lan_df.reset_index(inplace=True,drop=True)"
   ]
  },
  {
   "cell_type": "code",
   "execution_count": 128,
   "metadata": {},
   "outputs": [],
   "source": [
    "group_dict = {}\n",
    "for idx, value in enumerate(lan_df.Group.unique()):\n",
    "    group_dict[value] = idx\n",
    "    \n",
    "lan_df['group_int'] = lan_df['Group'].apply(lambda x: group_dict[x])"
   ]
  },
  {
   "cell_type": "code",
   "execution_count": 130,
   "metadata": {},
   "outputs": [
    {
     "data": {
      "text/plain": [
       "{'Germanic': 0, 'Indo-Aryan': 1, 'Greek': 2, 'Latin': 3, 'Japanese': 4}"
      ]
     },
     "execution_count": 130,
     "metadata": {},
     "output_type": "execute_result"
    }
   ],
   "source": [
    "group_dict"
   ]
  },
  {
   "cell_type": "code",
   "execution_count": 131,
   "metadata": {},
   "outputs": [],
   "source": [
    "lan_df['letter_li'] = lan_df['word'].apply(lambda x: list(x))"
   ]
  },
  {
   "cell_type": "code",
   "execution_count": 132,
   "metadata": {},
   "outputs": [],
   "source": [
    "map_dict = create_letter_mapping(lan_df['word'].values)"
   ]
  },
  {
   "cell_type": "code",
   "execution_count": 133,
   "metadata": {},
   "outputs": [],
   "source": [
    "lan_df['letter_ints'] = lan_df['letter_li'].apply(lambda x: pad_list(letter_to_number(x, map_dict)))"
   ]
  },
  {
   "cell_type": "code",
   "execution_count": 134,
   "metadata": {},
   "outputs": [],
   "source": [
    "SHAPE = lan_df.shape[0]"
   ]
  },
  {
   "cell_type": "code",
   "execution_count": 135,
   "metadata": {},
   "outputs": [],
   "source": [
    "word_arr = np.empty(SHAPE, dtype=list)\n",
    "origin_arr = np.empty(SHAPE, dtype=int)"
   ]
  },
  {
   "cell_type": "code",
   "execution_count": 136,
   "metadata": {},
   "outputs": [],
   "source": [
    "for i in range(SHAPE):\n",
    "    word_arr[i] = lan_df.loc[i, 'letter_ints']\n",
    "    origin_arr[i] = lan_df.loc[i, 'group_int']"
   ]
  },
  {
   "cell_type": "code",
   "execution_count": 137,
   "metadata": {},
   "outputs": [],
   "source": [
    "# pad array so that all words have length of 25\n",
    "word_arr = sequence.pad_sequences(word_arr, 25)"
   ]
  },
  {
   "cell_type": "code",
   "execution_count": 138,
   "metadata": {},
   "outputs": [],
   "source": [
    "# Develop random index for train test split\n",
    "random.seed(0)\n",
    "rng = np.arange(SHAPE)\n",
    "random.shuffle(rng)"
   ]
  },
  {
   "cell_type": "code",
   "execution_count": 139,
   "metadata": {},
   "outputs": [],
   "source": [
    "train_len = int(SHAPE * 0.8)\n",
    "train_idx = rng[:train_len]\n",
    "test_idx = rng[train_len:]"
   ]
  },
  {
   "cell_type": "code",
   "execution_count": 140,
   "metadata": {},
   "outputs": [],
   "source": [
    "X_train, y_train = word_arr[train_idx], origin_arr[train_idx]\n",
    "X_test, y_test = word_arr[test_idx], origin_arr[test_idx]"
   ]
  },
  {
   "cell_type": "code",
   "execution_count": 141,
   "metadata": {},
   "outputs": [
    {
     "data": {
      "text/plain": [
       "55"
      ]
     },
     "execution_count": 141,
     "metadata": {},
     "output_type": "execute_result"
    }
   ],
   "source": [
    "len(map_dict)"
   ]
  },
  {
   "cell_type": "code",
   "execution_count": 142,
   "metadata": {},
   "outputs": [
    {
     "data": {
      "text/plain": [
       "5"
      ]
     },
     "execution_count": 142,
     "metadata": {},
     "output_type": "execute_result"
    }
   ],
   "source": [
    "len(group_dict)"
   ]
  },
  {
   "cell_type": "code",
   "execution_count": 147,
   "metadata": {},
   "outputs": [],
   "source": [
    "embedding_model = tf.keras.Sequential([\n",
    "    tf.keras.layers.Embedding(len(map_dict) + 1, 32),\n",
    "    tf.keras.layers.LSTM(32),\n",
    "    tf.keras.layers.Dense(len(group_dict), activation=\"softmax\")\n",
    "])"
   ]
  },
  {
   "cell_type": "code",
   "execution_count": 148,
   "metadata": {},
   "outputs": [],
   "source": [
    "# classes = len(group_dict)\n",
    "# embed_dims = 32\n",
    "# stack_model = tf.keras.Sequential([\n",
    "#     tf.keras.layers.Embedding(len(map_dict) + 1, embed_dims),\n",
    "#     tf.keras.layers.LSTM(64, return_sequences=True),\n",
    "#     tf.keras.layers.LSTM(32, return_sequences=False),\n",
    "#     tf.keras.layers.Dense(classes, activation=\"softmax\")\n",
    "# ])"
   ]
  },
  {
   "cell_type": "code",
   "execution_count": 149,
   "metadata": {},
   "outputs": [
    {
     "name": "stdout",
     "output_type": "stream",
     "text": [
      "Train on 35983 samples, validate on 8996 samples\n",
      "Epoch 1/8\n",
      "35983/35983 [==============================] - 11s 304us/sample - loss: 0.7934 - acc: 0.6591 - val_loss: 0.7452 - val_acc: 0.6705\n",
      "Epoch 2/8\n",
      "35983/35983 [==============================] - 12s 342us/sample - loss: 0.7058 - acc: 0.6940 - val_loss: 0.7091 - val_acc: 0.6933\n",
      "Epoch 3/8\n",
      "35983/35983 [==============================] - 14s 389us/sample - loss: 0.6840 - acc: 0.7021 - val_loss: 0.6882 - val_acc: 0.6989\n",
      "Epoch 4/8\n",
      "35983/35983 [==============================] - 13s 371us/sample - loss: 0.6686 - acc: 0.7103 - val_loss: 0.7237 - val_acc: 0.6794\n",
      "Epoch 5/8\n",
      "35983/35983 [==============================] - 14s 383us/sample - loss: 0.6534 - acc: 0.7197 - val_loss: 0.6605 - val_acc: 0.7141\n",
      "Epoch 6/8\n",
      "35983/35983 [==============================] - 14s 382us/sample - loss: 0.6359 - acc: 0.7286 - val_loss: 0.6623 - val_acc: 0.7193\n",
      "Epoch 7/8\n",
      "35983/35983 [==============================] - 13s 374us/sample - loss: 0.6200 - acc: 0.7363 - val_loss: 0.6382 - val_acc: 0.7285\n",
      "Epoch 8/8\n",
      "35983/35983 [==============================] - 13s 352us/sample - loss: 0.6077 - acc: 0.7413 - val_loss: 0.6292 - val_acc: 0.7348\n"
     ]
    }
   ],
   "source": [
    "embedding_model.compile(loss=\"sparse_categorical_crossentropy\",optimizer=\"rmsprop\",metrics=['acc'])\n",
    "history = embedding_model.fit(X_train, y_train, epochs=10, validation_split=0.2)"
   ]
  },
  {
   "cell_type": "code",
   "execution_count": 151,
   "metadata": {},
   "outputs": [],
   "source": [
    "def get_word_prediction(test_word, model):\n",
    "    temp = pad_list(letter_to_number(list(test_word), map_dict))\n",
    "    temp = model.predict(np.array([temp]))\n",
    "    temp_df = pd.DataFrame(data={'group':[elem for elem in group_dict.keys()], 'probability' : temp[0] * 100})\n",
    "    return temp_df"
   ]
  },
  {
   "cell_type": "code",
   "execution_count": 168,
   "metadata": {},
   "outputs": [
    {
     "data": {
      "text/html": [
       "<div>\n",
       "<style scoped>\n",
       "    .dataframe tbody tr th:only-of-type {\n",
       "        vertical-align: middle;\n",
       "    }\n",
       "\n",
       "    .dataframe tbody tr th {\n",
       "        vertical-align: top;\n",
       "    }\n",
       "\n",
       "    .dataframe thead th {\n",
       "        text-align: right;\n",
       "    }\n",
       "</style>\n",
       "<table border=\"1\" class=\"dataframe\">\n",
       "  <thead>\n",
       "    <tr style=\"text-align: right;\">\n",
       "      <th></th>\n",
       "      <th>Unnamed: 0</th>\n",
       "      <th>word</th>\n",
       "      <th>origin</th>\n",
       "      <th>full_name</th>\n",
       "      <th>Group</th>\n",
       "    </tr>\n",
       "  </thead>\n",
       "  <tbody>\n",
       "    <tr>\n",
       "      <th>58644</th>\n",
       "      <td>98176</td>\n",
       "      <td>zoophytology</td>\n",
       "      <td>grc</td>\n",
       "      <td>Greek, Ancient (to 1453)</td>\n",
       "      <td>Greek</td>\n",
       "    </tr>\n",
       "    <tr>\n",
       "      <th>58648</th>\n",
       "      <td>98195</td>\n",
       "      <td>zootherapy</td>\n",
       "      <td>grc</td>\n",
       "      <td>Greek, Ancient (to 1453)</td>\n",
       "      <td>Greek</td>\n",
       "    </tr>\n",
       "    <tr>\n",
       "      <th>58649</th>\n",
       "      <td>98196</td>\n",
       "      <td>zootic</td>\n",
       "      <td>grc</td>\n",
       "      <td>Greek, Ancient (to 1453)</td>\n",
       "      <td>Greek</td>\n",
       "    </tr>\n",
       "    <tr>\n",
       "      <th>58658</th>\n",
       "      <td>98223</td>\n",
       "      <td>zoöphagy</td>\n",
       "      <td>grc</td>\n",
       "      <td>Greek, Ancient (to 1453)</td>\n",
       "      <td>Greek</td>\n",
       "    </tr>\n",
       "    <tr>\n",
       "      <th>58659</th>\n",
       "      <td>98225</td>\n",
       "      <td>zoöphyte</td>\n",
       "      <td>grc</td>\n",
       "      <td>Greek, Ancient (to 1453)</td>\n",
       "      <td>Greek</td>\n",
       "    </tr>\n",
       "    <tr>\n",
       "      <th>58670</th>\n",
       "      <td>98242</td>\n",
       "      <td>zygoma</td>\n",
       "      <td>grc</td>\n",
       "      <td>Greek, Ancient (to 1453)</td>\n",
       "      <td>Greek</td>\n",
       "    </tr>\n",
       "    <tr>\n",
       "      <th>58672</th>\n",
       "      <td>98246</td>\n",
       "      <td>zygote</td>\n",
       "      <td>grc</td>\n",
       "      <td>Greek, Ancient (to 1453)</td>\n",
       "      <td>Greek</td>\n",
       "    </tr>\n",
       "    <tr>\n",
       "      <th>58673</th>\n",
       "      <td>98247</td>\n",
       "      <td>zygotic</td>\n",
       "      <td>grc</td>\n",
       "      <td>Greek, Ancient (to 1453)</td>\n",
       "      <td>Greek</td>\n",
       "    </tr>\n",
       "    <tr>\n",
       "      <th>58674</th>\n",
       "      <td>98248</td>\n",
       "      <td>zyme</td>\n",
       "      <td>grc</td>\n",
       "      <td>Greek, Ancient (to 1453)</td>\n",
       "      <td>Greek</td>\n",
       "    </tr>\n",
       "    <tr>\n",
       "      <th>58683</th>\n",
       "      <td>98257</td>\n",
       "      <td>zymurgy</td>\n",
       "      <td>grc</td>\n",
       "      <td>Greek, Ancient (to 1453)</td>\n",
       "      <td>Greek</td>\n",
       "    </tr>\n",
       "  </tbody>\n",
       "</table>\n",
       "</div>"
      ],
      "text/plain": [
       "       Unnamed: 0          word origin                 full_name  Group\n",
       "58644       98176  zoophytology    grc  Greek, Ancient (to 1453)  Greek\n",
       "58648       98195    zootherapy    grc  Greek, Ancient (to 1453)  Greek\n",
       "58649       98196        zootic    grc  Greek, Ancient (to 1453)  Greek\n",
       "58658       98223      zoöphagy    grc  Greek, Ancient (to 1453)  Greek\n",
       "58659       98225      zoöphyte    grc  Greek, Ancient (to 1453)  Greek\n",
       "58670       98242        zygoma    grc  Greek, Ancient (to 1453)  Greek\n",
       "58672       98246        zygote    grc  Greek, Ancient (to 1453)  Greek\n",
       "58673       98247       zygotic    grc  Greek, Ancient (to 1453)  Greek\n",
       "58674       98248          zyme    grc  Greek, Ancient (to 1453)  Greek\n",
       "58683       98257       zymurgy    grc  Greek, Ancient (to 1453)  Greek"
      ]
     },
     "execution_count": 168,
     "metadata": {},
     "output_type": "execute_result"
    }
   ],
   "source": [
    "# test[test['Group'] == 'Greek'].tail(5)"
   ]
  },
  {
   "cell_type": "code",
   "execution_count": 183,
   "metadata": {},
   "outputs": [],
   "source": [
    "# test[test['Group'] == 'Indo-Aryan'].tail(5)"
   ]
  },
  {
   "cell_type": "code",
   "execution_count": 182,
   "metadata": {},
   "outputs": [
    {
     "data": {
      "text/html": [
       "<div>\n",
       "<style scoped>\n",
       "    .dataframe tbody tr th:only-of-type {\n",
       "        vertical-align: middle;\n",
       "    }\n",
       "\n",
       "    .dataframe tbody tr th {\n",
       "        vertical-align: top;\n",
       "    }\n",
       "\n",
       "    .dataframe thead th {\n",
       "        text-align: right;\n",
       "    }\n",
       "</style>\n",
       "<table border=\"1\" class=\"dataframe\">\n",
       "  <thead>\n",
       "    <tr style=\"text-align: right;\">\n",
       "      <th></th>\n",
       "      <th>group</th>\n",
       "      <th>probability</th>\n",
       "    </tr>\n",
       "  </thead>\n",
       "  <tbody>\n",
       "    <tr>\n",
       "      <th>0</th>\n",
       "      <td>Germanic</td>\n",
       "      <td>95.833519</td>\n",
       "    </tr>\n",
       "    <tr>\n",
       "      <th>1</th>\n",
       "      <td>Indo-Aryan</td>\n",
       "      <td>0.043775</td>\n",
       "    </tr>\n",
       "    <tr>\n",
       "      <th>2</th>\n",
       "      <td>Greek</td>\n",
       "      <td>0.124938</td>\n",
       "    </tr>\n",
       "    <tr>\n",
       "      <th>3</th>\n",
       "      <td>Latin</td>\n",
       "      <td>3.984998</td>\n",
       "    </tr>\n",
       "    <tr>\n",
       "      <th>4</th>\n",
       "      <td>Japanese</td>\n",
       "      <td>0.012770</td>\n",
       "    </tr>\n",
       "  </tbody>\n",
       "</table>\n",
       "</div>"
      ],
      "text/plain": [
       "        group  probability\n",
       "0    Germanic    95.833519\n",
       "1  Indo-Aryan     0.043775\n",
       "2       Greek     0.124938\n",
       "3       Latin     3.984998\n",
       "4    Japanese     0.012770"
      ]
     },
     "execution_count": 182,
     "metadata": {},
     "output_type": "execute_result"
    }
   ],
   "source": [
    "get_word_prediction('smith', embedding_model)"
   ]
  },
  {
   "cell_type": "code",
   "execution_count": 52,
   "metadata": {},
   "outputs": [
    {
     "data": {
      "text/plain": [
       "0.8713617463617463"
      ]
     },
     "execution_count": 52,
     "metadata": {},
     "output_type": "execute_result"
    }
   ],
   "source": [
    "20118 / (20118 + 2177 + 411 + 382)"
   ]
  }
 ],
 "metadata": {
  "kernelspec": {
   "display_name": "Python 3",
   "language": "python",
   "name": "python3"
  },
  "language_info": {
   "codemirror_mode": {
    "name": "ipython",
    "version": 3
   },
   "file_extension": ".py",
   "mimetype": "text/x-python",
   "name": "python",
   "nbconvert_exporter": "python",
   "pygments_lexer": "ipython3",
   "version": "3.7.6"
  }
 },
 "nbformat": 4,
 "nbformat_minor": 4
}
